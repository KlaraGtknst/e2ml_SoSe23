{
 "cells": [
  {
   "cell_type": "markdown",
   "id": "1c70fa63-b796-4b94-b670-0e98bb66a5a1",
   "metadata": {
    "pycharm": {
     "name": "#%% md\n"
    }
   },
   "source": [
    "# Final Excercise\n",
    "\n",
    "In this notebook, you will find the last exercise of the lecture:\n",
    "You are handed an initial dataset with several features and a univariate target. Next, you have to decide how to proceed. Since you do not have enough data to yet construct a classifier/predictor of any sensible evaluation metrics, the first task is, therefore, to acquire more data. For this purpose you can obtain batches of data according to your own design of experiments, so you will need to decide which experiments you consider necessary to perform. \n",
    "\n",
    "You will have four opportunities to acquire more data. Each time you have to decide which experiments to run and send those to Franz Götz-Hahn as a CSV file. The deadlines are 16.06.2023, 23.06.2023, 30.06.2023, and 07.07.2023 and 12:00 (noon). The format in all cases is a table with one row for each choosable feature, and the column entries corresponding to the desired values. Each individual sample will take approximately 30min, so pick a reasonable amount of experiments. For example, you will get the result for 100 experiments roughly 50 hours after the respective deadline. Should the experiment not be conductible, you will get a ``None`` as a result, e.g., if a feature value is out of range.\n",
    "\n",
    "Once you have your data, you should compare the performance of different classifiers in predicting the targets. The classifiers to compare are [RandomForestClassifier](https://scikit-learn.org/stable/modules/generated/sklearn.ensemble.RandomForestClassifier.html), [SVC](https://scikit-learn.org/stable/modules/generated/sklearn.svm.SVC.html#sklearn.svm.SVC), and [MLPClassifier](https://scikit-learn.org/stable/modules/generated/sklearn.neural_network.MLPClassifier.html). You should utilize all the different parts of the E2ML lecture that you considern appropriate. This could include Data Preprocessing, Design of Experiments for the batches, deciding on Performance Measures, Statistical Significance Testing of a hypothesis, Design of Experiments for Hyperparameter Optimization.\n",
    "\n",
    "Should you wish to present the results from this excercise in the oral examination, you need to hand in your entire package until 14.07.2023-23:59 as a GitHub Repository. Send the link to the (public) repository to Franz Götz-Hahn via [E-Mail](mailto:franz.goetz-hahn@uni-kassel.de). Please use the README of the repository to describe the structure of the package, include any required packages in the setup.py, add the data in the data subfolder, save any results in the results subfolder, and include a _descriptive_ jupyter notebook in the notebooks subfolder.\n",
    "\n",
    "Do note, that the point of this excercise is **not** to achieve the best performance of your models, but rather to document your process and give the motivation behind your chosen approaches, _even the ones that failed_."
   ]
  },
  {
   "cell_type": "code",
   "execution_count": 4,
   "id": "3cbb5690-6d49-42df-bf4b-db120f76c893",
   "metadata": {
    "pycharm": {
     "name": "#%%\n"
    }
   },
   "outputs": [],
   "source": [
    "import matplotlib.pyplot as plt\n",
    "import numpy as np\n",
    "import pandas as pd\n",
    "#from e2ml import utils"
   ]
  },
  {
   "cell_type": "markdown",
   "source": [
    "#### molluscs\n",
    "Bestimmte/konkrete Muschelart."
   ],
   "metadata": {
    "collapsed": false,
    "pycharm": {
     "name": "#%% md\n"
    }
   }
  },
  {
   "cell_type": "markdown",
   "id": "a8e495a7",
   "metadata": {
    "pycharm": {
     "name": "#%% md\n"
    }
   },
   "source": [
    "### **Mollusc Classification** <a class=\"anchor\" id=\"heart\"></a>\n",
    "\n",
    "Your dataset describes some physical measurements of a specific type of molluscs. Your goal is to predict the `Stage of Life` of the mollusc. The data you can get looks as follows:\n",
    "\n",
    "\n",
    "| Sex\t|Length\t|Width\t|Height|\tWeight\t|Non_Shell Weight\t|Intestine Weight\t|Shell Weight\t|Stage of Life |\n",
    "| ---                           | ----   | ----    | ----    | ----   |----             |----    |---- | ---------- |\n",
    "| {Male (M), Female (F), Indeterminate (I)} | float (inches)     | float (inches)     |  float (inches)     | float (gram)      | float (gram)              | float (gram)     |  float (gram)     | {Child, Adolescent (Adole), Adult}      |\n",
    "\n",
    "The table headings are identical to the column names in the corresponding CSV-files. \n",
    "\n",
    "We can send out divers that look for molluscs that fit your needs, which will subsequently be analyzed in a laboratory. You can request molluscs with all features except the Stage of Life attribute, as it is the target. The first day of diving has already been completed. After 8 hours of diving, they brought up the following molluscs:"
   ]
  },
  {
   "cell_type": "code",
   "execution_count": 7,
   "id": "8435dbee",
   "metadata": {
    "pycharm": {
     "name": "#%%\n"
    }
   },
   "outputs": [
    {
     "data": {
      "text/plain": "   Sex  Length  Width  Height  Weight  Non_Shell Weight  Intestine Weight  \\\n0    F   0.450  0.345   0.120  0.4165            0.1655            0.0950   \n1    F   0.475  0.380   0.145  0.5700            0.1670            0.1180   \n2    M   0.610  0.485   0.170  1.0225            0.4190            0.2405   \n3    I   0.430  0.340   0.105  0.4405            0.2385            0.0745   \n4    M   0.205  0.155   0.045  0.0425            0.0170            0.0055   \n5    M   0.600  0.475   0.175  1.3445            0.5490            0.2875   \n6    I   0.515  0.390   0.110  0.5310            0.2415            0.0980   \n7    F   0.625  0.495   0.160  1.1115            0.4495            0.2825   \n8    F   0.650  0.520   0.195  1.6275            0.6890            0.3905   \n9    F   0.620  0.480   0.165  1.0430            0.4835            0.2210   \n10   F   0.535  0.450   0.135  0.8075            0.3220            0.1810   \n11   I   0.385  0.280   0.090  0.2280            0.1025            0.0420   \n12   F   0.680  0.560   0.195  1.7775            0.8610            0.3220   \n13   F   0.585  0.415   0.155  0.6985            0.3000            0.1460   \n14   M   0.525  0.435   0.155  1.0650            0.4860            0.2330   \n15   M   0.660  0.545   0.185  1.3200            0.5305            0.2635   \n\n    Shell Weight Stage of Life  \n0         0.1350         Adult  \n1         0.1870         Adole  \n2         0.3600         Adult  \n3         0.1075         Adole  \n4         0.0155         Adult  \n5         0.3600         Child  \n6         0.1615         Adult  \n7         0.3450         Child  \n8         0.4320         Adult  \n9         0.3100         Adult  \n10        0.2500         Adole  \n11        0.0655         Adult  \n12        0.4150         Adole  \n13        0.1950         Adole  \n14        0.2850         Adult  \n15        0.4550         Child  ",
      "text/html": "<div>\n<style scoped>\n    .dataframe tbody tr th:only-of-type {\n        vertical-align: middle;\n    }\n\n    .dataframe tbody tr th {\n        vertical-align: top;\n    }\n\n    .dataframe thead th {\n        text-align: right;\n    }\n</style>\n<table border=\"1\" class=\"dataframe\">\n  <thead>\n    <tr style=\"text-align: right;\">\n      <th></th>\n      <th>Sex</th>\n      <th>Length</th>\n      <th>Width</th>\n      <th>Height</th>\n      <th>Weight</th>\n      <th>Non_Shell Weight</th>\n      <th>Intestine Weight</th>\n      <th>Shell Weight</th>\n      <th>Stage of Life</th>\n    </tr>\n  </thead>\n  <tbody>\n    <tr>\n      <th>0</th>\n      <td>F</td>\n      <td>0.450</td>\n      <td>0.345</td>\n      <td>0.120</td>\n      <td>0.4165</td>\n      <td>0.1655</td>\n      <td>0.0950</td>\n      <td>0.1350</td>\n      <td>Adult</td>\n    </tr>\n    <tr>\n      <th>1</th>\n      <td>F</td>\n      <td>0.475</td>\n      <td>0.380</td>\n      <td>0.145</td>\n      <td>0.5700</td>\n      <td>0.1670</td>\n      <td>0.1180</td>\n      <td>0.1870</td>\n      <td>Adole</td>\n    </tr>\n    <tr>\n      <th>2</th>\n      <td>M</td>\n      <td>0.610</td>\n      <td>0.485</td>\n      <td>0.170</td>\n      <td>1.0225</td>\n      <td>0.4190</td>\n      <td>0.2405</td>\n      <td>0.3600</td>\n      <td>Adult</td>\n    </tr>\n    <tr>\n      <th>3</th>\n      <td>I</td>\n      <td>0.430</td>\n      <td>0.340</td>\n      <td>0.105</td>\n      <td>0.4405</td>\n      <td>0.2385</td>\n      <td>0.0745</td>\n      <td>0.1075</td>\n      <td>Adole</td>\n    </tr>\n    <tr>\n      <th>4</th>\n      <td>M</td>\n      <td>0.205</td>\n      <td>0.155</td>\n      <td>0.045</td>\n      <td>0.0425</td>\n      <td>0.0170</td>\n      <td>0.0055</td>\n      <td>0.0155</td>\n      <td>Adult</td>\n    </tr>\n    <tr>\n      <th>5</th>\n      <td>M</td>\n      <td>0.600</td>\n      <td>0.475</td>\n      <td>0.175</td>\n      <td>1.3445</td>\n      <td>0.5490</td>\n      <td>0.2875</td>\n      <td>0.3600</td>\n      <td>Child</td>\n    </tr>\n    <tr>\n      <th>6</th>\n      <td>I</td>\n      <td>0.515</td>\n      <td>0.390</td>\n      <td>0.110</td>\n      <td>0.5310</td>\n      <td>0.2415</td>\n      <td>0.0980</td>\n      <td>0.1615</td>\n      <td>Adult</td>\n    </tr>\n    <tr>\n      <th>7</th>\n      <td>F</td>\n      <td>0.625</td>\n      <td>0.495</td>\n      <td>0.160</td>\n      <td>1.1115</td>\n      <td>0.4495</td>\n      <td>0.2825</td>\n      <td>0.3450</td>\n      <td>Child</td>\n    </tr>\n    <tr>\n      <th>8</th>\n      <td>F</td>\n      <td>0.650</td>\n      <td>0.520</td>\n      <td>0.195</td>\n      <td>1.6275</td>\n      <td>0.6890</td>\n      <td>0.3905</td>\n      <td>0.4320</td>\n      <td>Adult</td>\n    </tr>\n    <tr>\n      <th>9</th>\n      <td>F</td>\n      <td>0.620</td>\n      <td>0.480</td>\n      <td>0.165</td>\n      <td>1.0430</td>\n      <td>0.4835</td>\n      <td>0.2210</td>\n      <td>0.3100</td>\n      <td>Adult</td>\n    </tr>\n    <tr>\n      <th>10</th>\n      <td>F</td>\n      <td>0.535</td>\n      <td>0.450</td>\n      <td>0.135</td>\n      <td>0.8075</td>\n      <td>0.3220</td>\n      <td>0.1810</td>\n      <td>0.2500</td>\n      <td>Adole</td>\n    </tr>\n    <tr>\n      <th>11</th>\n      <td>I</td>\n      <td>0.385</td>\n      <td>0.280</td>\n      <td>0.090</td>\n      <td>0.2280</td>\n      <td>0.1025</td>\n      <td>0.0420</td>\n      <td>0.0655</td>\n      <td>Adult</td>\n    </tr>\n    <tr>\n      <th>12</th>\n      <td>F</td>\n      <td>0.680</td>\n      <td>0.560</td>\n      <td>0.195</td>\n      <td>1.7775</td>\n      <td>0.8610</td>\n      <td>0.3220</td>\n      <td>0.4150</td>\n      <td>Adole</td>\n    </tr>\n    <tr>\n      <th>13</th>\n      <td>F</td>\n      <td>0.585</td>\n      <td>0.415</td>\n      <td>0.155</td>\n      <td>0.6985</td>\n      <td>0.3000</td>\n      <td>0.1460</td>\n      <td>0.1950</td>\n      <td>Adole</td>\n    </tr>\n    <tr>\n      <th>14</th>\n      <td>M</td>\n      <td>0.525</td>\n      <td>0.435</td>\n      <td>0.155</td>\n      <td>1.0650</td>\n      <td>0.4860</td>\n      <td>0.2330</td>\n      <td>0.2850</td>\n      <td>Adult</td>\n    </tr>\n    <tr>\n      <th>15</th>\n      <td>M</td>\n      <td>0.660</td>\n      <td>0.545</td>\n      <td>0.185</td>\n      <td>1.3200</td>\n      <td>0.5305</td>\n      <td>0.2635</td>\n      <td>0.4550</td>\n      <td>Child</td>\n    </tr>\n  </tbody>\n</table>\n</div>"
     },
     "execution_count": 7,
     "metadata": {},
     "output_type": "execute_result"
    }
   ],
   "source": [
    "initial_molluscs_data = pd.read_csv('../data/initial_molluscs_data.csv')\n",
    "initial_molluscs_data"
   ]
  },
  {
   "cell_type": "markdown",
   "source": [
    "## Exploration of initial dataset\n",
    "\n",
    "In order to determine which samples to obtain next, one has to analyse what is already present.\n",
    "Thus, the next step is to explore the initial dataset.\n",
    "1. Methods used to explore each feature individually include box/violine plots, histograms, PDFs and CDFs.\n",
    "2. Methods used to explore the relationship between feature include scatter plots and correlation matrices."
   ],
   "metadata": {
    "collapsed": false,
    "pycharm": {
     "name": "#%% md\n"
    }
   }
  },
  {
   "cell_type": "code",
   "execution_count": 8,
   "outputs": [
    {
     "name": "stdout",
     "output_type": "stream",
     "text": [
      "Index(['Sex', 'Length', 'Width', 'Height', 'Weight', 'Non_Shell Weight',\n",
      "       'Intestine Weight', 'Shell Weight', 'Stage of Life'],\n",
      "      dtype='object')\n"
     ]
    }
   ],
   "source": [
    "# store features, i.e. column names, in a list\n",
    "features = initial_molluscs_data.columns\n",
    "print(features)"
   ],
   "metadata": {
    "collapsed": false,
    "pycharm": {
     "name": "#%%\n"
    }
   }
  },
  {
   "cell_type": "code",
   "execution_count": 15,
   "outputs": [
    {
     "data": {
      "text/plain": "          Length      Width     Height     Weight  Non_Shell Weight  \\\ncount  16.000000  16.000000  16.000000  16.000000         16.000000   \nmean    0.534375   0.421875   0.144062   0.877875          0.376344   \nstd     0.124176   0.105560   0.041240   0.496578          0.224390   \nmin     0.205000   0.155000   0.045000   0.042500          0.017000   \n25%     0.468750   0.371250   0.117500   0.508375          0.220625   \n50%     0.560000   0.442500   0.155000   0.915000          0.370500   \n75%     0.621250   0.487500   0.171250   1.163625          0.497125   \nmax     0.680000   0.560000   0.195000   1.777500          0.861000   \n\n       Intestine Weight  Shell Weight  \ncount         16.000000     16.000000  \nmean           0.187531      0.254938  \nstd            0.109644      0.135996  \nmin            0.005500      0.015500  \n25%            0.097250      0.154875  \n50%            0.201000      0.267500  \n75%            0.268250      0.360000  \nmax            0.390500      0.455000  ",
      "text/html": "<div>\n<style scoped>\n    .dataframe tbody tr th:only-of-type {\n        vertical-align: middle;\n    }\n\n    .dataframe tbody tr th {\n        vertical-align: top;\n    }\n\n    .dataframe thead th {\n        text-align: right;\n    }\n</style>\n<table border=\"1\" class=\"dataframe\">\n  <thead>\n    <tr style=\"text-align: right;\">\n      <th></th>\n      <th>Length</th>\n      <th>Width</th>\n      <th>Height</th>\n      <th>Weight</th>\n      <th>Non_Shell Weight</th>\n      <th>Intestine Weight</th>\n      <th>Shell Weight</th>\n    </tr>\n  </thead>\n  <tbody>\n    <tr>\n      <th>count</th>\n      <td>16.000000</td>\n      <td>16.000000</td>\n      <td>16.000000</td>\n      <td>16.000000</td>\n      <td>16.000000</td>\n      <td>16.000000</td>\n      <td>16.000000</td>\n    </tr>\n    <tr>\n      <th>mean</th>\n      <td>0.534375</td>\n      <td>0.421875</td>\n      <td>0.144062</td>\n      <td>0.877875</td>\n      <td>0.376344</td>\n      <td>0.187531</td>\n      <td>0.254938</td>\n    </tr>\n    <tr>\n      <th>std</th>\n      <td>0.124176</td>\n      <td>0.105560</td>\n      <td>0.041240</td>\n      <td>0.496578</td>\n      <td>0.224390</td>\n      <td>0.109644</td>\n      <td>0.135996</td>\n    </tr>\n    <tr>\n      <th>min</th>\n      <td>0.205000</td>\n      <td>0.155000</td>\n      <td>0.045000</td>\n      <td>0.042500</td>\n      <td>0.017000</td>\n      <td>0.005500</td>\n      <td>0.015500</td>\n    </tr>\n    <tr>\n      <th>25%</th>\n      <td>0.468750</td>\n      <td>0.371250</td>\n      <td>0.117500</td>\n      <td>0.508375</td>\n      <td>0.220625</td>\n      <td>0.097250</td>\n      <td>0.154875</td>\n    </tr>\n    <tr>\n      <th>50%</th>\n      <td>0.560000</td>\n      <td>0.442500</td>\n      <td>0.155000</td>\n      <td>0.915000</td>\n      <td>0.370500</td>\n      <td>0.201000</td>\n      <td>0.267500</td>\n    </tr>\n    <tr>\n      <th>75%</th>\n      <td>0.621250</td>\n      <td>0.487500</td>\n      <td>0.171250</td>\n      <td>1.163625</td>\n      <td>0.497125</td>\n      <td>0.268250</td>\n      <td>0.360000</td>\n    </tr>\n    <tr>\n      <th>max</th>\n      <td>0.680000</td>\n      <td>0.560000</td>\n      <td>0.195000</td>\n      <td>1.777500</td>\n      <td>0.861000</td>\n      <td>0.390500</td>\n      <td>0.455000</td>\n    </tr>\n  </tbody>\n</table>\n</div>"
     },
     "execution_count": 15,
     "metadata": {},
     "output_type": "execute_result"
    }
   ],
   "source": [
    "initial_molluscs_data.describe()"
   ],
   "metadata": {
    "collapsed": false,
    "pycharm": {
     "name": "#%%\n"
    }
   }
  },
  {
   "cell_type": "code",
   "execution_count": 22,
   "outputs": [
    {
     "name": "stdout",
     "output_type": "stream",
     "text": [
      "{0: 'Adole', 1: 'Adult', 2: 'Child'}\n"
     ]
    },
    {
     "data": {
      "text/plain": "count    16.000000\nmean      0.875000\nstd       0.718795\nmin       0.000000\n25%       0.000000\n50%       1.000000\n75%       1.000000\nmax       2.000000\nName: Stage of Life, dtype: float64"
     },
     "execution_count": 22,
     "metadata": {},
     "output_type": "execute_result"
    }
   ],
   "source": [
    "# create dataframe containing features transformed to numerical/categorical values\n",
    "initial_molluscs_data_numerical = initial_molluscs_data.copy()\n",
    "initial_molluscs_data_numerical['Stage of Life'] = initial_molluscs_data_numerical['Stage of Life'].astype('category')\n",
    "\n",
    "#print(initial_molluscs_data_numerical.dtypes)\n",
    "cat_code_translation = dict(enumerate(initial_molluscs_data_numerical['Stage of Life'].cat.categories))\n",
    "print(cat_code_translation)\n",
    "initial_molluscs_data_numerical['Stage of Life'] = initial_molluscs_data_numerical['Stage of Life'].cat.codes\n",
    "initial_molluscs_data_numerical['Stage of Life'].describe()\n",
    "#display(initial_molluscs_data_numerical)"
   ],
   "metadata": {
    "collapsed": false,
    "pycharm": {
     "name": "#%%\n"
    }
   }
  },
  {
   "cell_type": "markdown",
   "source": [
    "### (1) Exploration of single feature"
   ],
   "metadata": {
    "collapsed": false,
    "pycharm": {
     "name": "#%% md\n"
    }
   }
  },
  {
   "cell_type": "markdown",
   "source": [
    "1.1. Box and violin plots"
   ],
   "metadata": {
    "collapsed": false,
    "pycharm": {
     "name": "#%% md\n"
    }
   }
  },
  {
   "cell_type": "code",
   "execution_count": null,
   "id": "46664260",
   "metadata": {
    "pycharm": {
     "name": "#%%\n"
    }
   },
   "outputs": [],
   "source": []
  }
 ],
 "metadata": {
  "kernelspec": {
   "display_name": "Python 3 (ipykernel)",
   "language": "python",
   "name": "python3"
  },
  "language_info": {
   "codemirror_mode": {
    "name": "ipython",
    "version": 3
   },
   "file_extension": ".py",
   "mimetype": "text/x-python",
   "name": "python",
   "nbconvert_exporter": "python",
   "pygments_lexer": "ipython3",
   "version": "3.9.16"
  }
 },
 "nbformat": 4,
 "nbformat_minor": 5
}