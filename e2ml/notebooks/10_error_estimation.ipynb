{
 "cells": [
  {
   "cell_type": "markdown",
   "id": "1c70fa63-b796-4b94-b670-0e98bb66a5a1",
   "metadata": {
    "pycharm": {
     "name": "#%% md\n"
    }
   },
   "source": [
    "# Error Estimation\n",
    "\n",
    "In this notebook, we will implement and test **error estimation approaches** for evaluating classifiers and/or learning algorithms.\n",
    "\n",
    "At the start, we will implement the $k$-fold cross-validation with and without stratification.\n",
    "\n",
    "Subsequently, we will use the nested $k$-fold cross-validation on an exemplary dataset to perform model selection.\n",
    "\n",
    "### **Table of Contents**\n",
    "1. [$k$-fold Cross-alidation](#k-fold-cross-validation)\n",
    "2. [Model Selection](#model-selection)"
   ]
  },
  {
   "cell_type": "code",
   "execution_count": 1,
   "id": "3cbb5690-6d49-42df-bf4b-db120f76c893",
   "metadata": {
    "pycharm": {
     "name": "#%%\n"
    }
   },
   "outputs": [
    {
     "name": "stdout",
     "output_type": "stream",
     "text": [
      "Requirement already satisfied: scikit-learn==1.2.0 in c:\\users\\klara\\anaconda3\\envs\\e2ml-env\\lib\\site-packages (1.2.0)\n",
      "Requirement already satisfied: numpy>=1.17.3 in c:\\users\\klara\\anaconda3\\envs\\e2ml-env\\lib\\site-packages (from scikit-learn==1.2.0) (1.22.4)\n",
      "Requirement already satisfied: joblib>=1.1.1 in c:\\users\\klara\\anaconda3\\envs\\e2ml-env\\lib\\site-packages (from scikit-learn==1.2.0) (1.2.0)\n",
      "Requirement already satisfied: threadpoolctl>=2.0.0 in c:\\users\\klara\\anaconda3\\envs\\e2ml-env\\lib\\site-packages (from scikit-learn==1.2.0) (3.1.0)\n",
      "Requirement already satisfied: scipy>=1.3.2 in c:\\users\\klara\\anaconda3\\envs\\e2ml-env\\lib\\site-packages (from scikit-learn==1.2.0) (1.6.3)\n"
     ]
    }
   ],
   "source": [
    "%load_ext autoreload\n",
    "%autoreload 2\n",
    "\n",
    "import matplotlib.pyplot as plt\n",
    "import numpy as np\n",
    "\n",
    "# install in notebook, bc otherwise the environment is not updated but the base versions\n",
    "!pip install scikit-learn==1.2.0"
   ]
  },
  {
   "cell_type": "markdown",
   "id": "8aee2541",
   "metadata": {
    "pycharm": {
     "name": "#%% md\n"
    }
   },
   "source": [
    "### **1. $k$-fold Cross-validation** <a class=\"anchor\" id=\"k-fold-cross-validation\"></a>\n",
    "\n",
    "We implement the function [`cross_validation`](../e2ml/evaluation/_error_estimation.py) in the [`e2ml.evaluation`](../e2ml/evaluation) subpackage. Once, the implementation has been completed, we visualize and compare the standard and stratified cross-validation."
   ]
  },
  {
   "cell_type": "code",
   "execution_count": 7,
   "id": "089c5c9b",
   "metadata": {
    "pycharm": {
     "name": "#%%\n"
    }
   },
   "outputs": [
    {
     "data": {
      "text/plain": "<Figure size 640x480 with 1 Axes>",
      "image/png": "[encoded data removed]"
     },
     "metadata": {},
     "output_type": "display_data"
    },
    {
     "data": {
      "text/plain": "<Figure size 640x480 with 1 Axes>",
      "image/png": "[encoded data removed]"
     },
     "metadata": {},
     "output_type": "display_data"
    }
   ],
   "source": [
    "from e2ml.evaluation import cross_validation\n",
    "# Generate articial class labels.\n",
    "y = np.zeros(100)   # class labels, 30 have label 0\n",
    "sample_indices = np.arange(len(y), dtype=int)\n",
    "y[30:90] = 1    # class labels, 60 have label 1\n",
    "y[90:] = 2    # class labels, 10 have label 2\n",
    "\n",
    "# Visualize standard (k=3)-fold cross validation via a bar plot showing the\n",
    "# class distribution within each fold.\n",
    "train, test = cross_validation(sample_indices=sample_indices, n_folds=3, random_state=0) # not stratified -> kein y geben\n",
    "\n",
    "class_distribution = []\n",
    "for i, class_y in enumerate(np.unique(y)):\n",
    "    y_values = []   # Anzahl der Elemente der Klasse in jedem Fold\n",
    "    for t in test:  # t der gesamte Testdatensatz (Indices Menge) in einem Fold\n",
    "        y_values.append(np.sum(y[t] == class_y))    # Anzahl der Elemnte der Klasse\n",
    "\n",
    "    class_distribution.append(y_values)\n",
    "    plt.bar(np.arange(len(test)), y_values, bottom=np.sum(np.array(class_distribution)[:i], axis=0), label=f\"class {class_y}\")  # stacked bar plot; untere Klasse == erste Klasse\n",
    "    plt.xticks([0,1,2])\n",
    "plt.show()\n",
    "\n",
    "    \n",
    "# Visualize stratified (k=3)-fold cross validation via a bar plot showing the class\n",
    "# distribution within each fold.\n",
    "train, test = cross_validation(sample_indices=sample_indices, n_folds=3, random_state=0, y=y)\n",
    "\n",
    "class_distribution = []\n",
    "for i, class_y in enumerate(np.unique(y)):\n",
    "    y_values = []   # Anzahl der Elemente der Klasse in jedem Fold\n",
    "    for t in test:  # t der gesamte Testdatensatz (Indices Menge) in einem Fold\n",
    "        y_values.append(np.sum(y[t] == class_y))    # Anzahl der Elemnte der Klasse\n",
    "\n",
    "    class_distribution.append(y_values)\n",
    "    plt.bar(np.arange(len(test)), y_values, bottom=np.sum(np.array(class_distribution)[:i], axis=0), label=f\"class {class_y}\")  # stacked bar plot; untere Klasse == erste Klasse\n",
    "    plt.xticks([0,1,2])\n",
    "plt.show()\n",
    "\n"
   ]
  },
  {
   "cell_type": "code",
   "execution_count": 10,
   "outputs": [
    {
     "data": {
      "text/plain": "(array([1., 1., 1., 1., 1., 1., 1., 1., 1., 1., 1., 1., 1., 1., 1., 1., 1.,\n        1., 1., 1., 1., 1., 1., 1., 1., 1., 1., 1., 1., 1., 1., 1., 1., 1.,\n        1., 1., 1., 1., 1., 1., 1., 1., 1., 1., 1., 1., 1., 1., 1., 1., 1.,\n        1., 1., 1., 1., 1., 1., 1., 1., 1., 1., 1., 1., 1., 1., 1., 1., 1.,\n        1., 1., 1., 1., 1., 1., 1., 1., 1., 1., 1., 1., 1., 1., 1., 1., 1.,\n        1., 1., 1., 1., 1., 1., 1., 1., 1., 1., 1., 1., 1., 1., 1.]),\n array([ 0.  ,  0.99,  1.98,  2.97,  3.96,  4.95,  5.94,  6.93,  7.92,\n         8.91,  9.9 , 10.89, 11.88, 12.87, 13.86, 14.85, 15.84, 16.83,\n        17.82, 18.81, 19.8 , 20.79, 21.78, 22.77, 23.76, 24.75, 25.74,\n        26.73, 27.72, 28.71, 29.7 , 30.69, 31.68, 32.67, 33.66, 34.65,\n        35.64, 36.63, 37.62, 38.61, 39.6 , 40.59, 41.58, 42.57, 43.56,\n        44.55, 45.54, 46.53, 47.52, 48.51, 49.5 , 50.49, 51.48, 52.47,\n        53.46, 54.45, 55.44, 56.43, 57.42, 58.41, 59.4 , 60.39, 61.38,\n        62.37, 63.36, 64.35, 65.34, 66.33, 67.32, 68.31, 69.3 , 70.29,\n        71.28, 72.27, 73.26, 74.25, 75.24, 76.23, 77.22, 78.21, 79.2 ,\n        80.19, 81.18, 82.17, 83.16, 84.15, 85.14, 86.13, 87.12, 88.11,\n        89.1 , 90.09, 91.08, 92.07, 93.06, 94.05, 95.04, 96.03, 97.02,\n        98.01, 99.  ]),\n <BarContainer object of 100 artists>)"
     },
     "execution_count": 10,
     "metadata": {},
     "output_type": "execute_result"
    },
    {
     "data": {
      "text/plain": "<Figure size 640x480 with 1 Axes>",
      "image/png": "[encoded data removed]"
     },
     "metadata": {},
     "output_type": "display_data"
    }
   ],
   "source": [
    "test_elements = []\n",
    "[test_elements.extend(t) for t in test]\n",
    "plt.hist(test_elements, bins=100)  # jedes Element ist einmal im Testset, zweimal in Train Set"
   ],
   "metadata": {
    "collapsed": false,
    "pycharm": {
     "name": "#%%\n"
    }
   }
  },
  {
   "cell_type": "code",
   "execution_count": 3,
   "outputs": [
    {
     "data": {
      "text/plain": "'1.2.0'"
     },
     "execution_count": 3,
     "metadata": {},
     "output_type": "execute_result"
    }
   ],
   "source": [
    "import sklearn\n",
    "sklearn.__version__"
   ],
   "metadata": {
    "collapsed": false,
    "pycharm": {
     "name": "#%%\n"
    }
   }
  },
  {
   "cell_type": "markdown",
   "id": "725e4210",
   "metadata": {
    "pycharm": {
     "name": "#%% md\n"
    }
   },
   "source": [
    "### **2. Model Selection** <a class=\"anchor\" id=\"model-selection\"></a>\n",
    "\n",
    "In the follwing, we perform a small evaluation study including a model selection. Our goal is to compare the learning algorithm of a [*support vector classifier*](https://scikit-learn.org/stable/modules/generated/sklearn.svm.SVC.html#sklearn.svm.SVC) (SVC) and a [*multi-layer perceptron*](https://scikit-learn.org/stable/modules/generated/sklearn.neural_network.MLPClassifier.html#sklearn.neural_network.MLPClassifier) (MLP) on the data set [*breast cancer*](https://scikit-learn.org/stable/modules/generated/sklearn.datasets.load_breast_cancer.html#sklearn.datasets.load_breast_cancer). We generate in each run 20 hyperparameter configurations according to one of the popular experimentation methods. Studied hyperparamters are the regularization parameter $C \\in (0, 1000)$ (`C`) and the so-called bandwidth $\\gamma \\in (0, 1]$ (`gamma`) for the SVC, while the learning rate $\\eta \\in (0, 1]$ (`learning_rate_init`) and another regularization parameter $\\alpha \\in (0, 1)$ (`alpha`) are studied for the MLP. Further, we use a nested stratified $k=5$-folded cross-valdiation as error-estimation approach. The zero-one loss serves as performance measure to report the emprical mean and standard deviation of the risk estimates."
   ]
  },
  {
   "cell_type": "markdown",
   "source": [
    "zweifache Splitten: k-folds\n",
    "- splitten in folds muss richtig sein, sonst Ergebnisse wertlos\n",
    "- hyperparameter bekannt:\n",
    "    - train und test set splitted\n",
    "    - model hat test set nie gesehen, aber sind aus gleicher Quelle\n",
    "    - Ergebnisse der Test sind repräsentativ für die Performance des Modells\n",
    "- hyperparamter unbekannt:\n",
    "    - train, test split: Test darf NICHT von Modell gesehen werden, bis Modell fertig ist\n",
    "    - Hyperparameter auf verschiedenen Szenarien testen\n",
    "        - dafür Training erneut in Validaten und Train splitten\n",
    "        - optimale Hyperparameter auf Validaten finden (train, alter hyperparam, train, ...)\n",
    "        - Trainingstest Performance könnte maximal gut sein\n",
    "        - Validentest Performance ist realistischer/geringer\n",
    "    - Modell mit optimalen Hyperparametern auf Testdaten testen (geringste Performance)\n",
    "    - wiederhole für jeden äußeren Fold\n",
    "        - mehrere Hyperparameterkombinationen\n",
    "        - mehrere Test scores"
   ],
   "metadata": {
    "collapsed": false,
    "pycharm": {
     "name": "#%% md\n"
    }
   }
  },
  {
   "cell_type": "code",
   "execution_count": null,
   "outputs": [],
   "source": [
    "from sklearn.svm import SVC\n",
    "from sklearn.neural_network import MLPClassifier\n",
    "from sklearn.datasets import load_breast_cancer\n",
    "\n",
    "# Load breast cancer data set.\n",
    "X, y = load_breast_cancer(return_X_y=True)\n",
    "\n",
    "# Perform evaluation study.\n",
    "# imports\n",
    "from e2ml.experimentation import halton\n",
    "from e2ml.preprocessing import StandardScaler\n",
    "from e2ml.evaluation import zero_one_loss\n",
    "\n",
    "# define parameters\n",
    "C_upper = 1000\n",
    "C_lower = 0\n",
    "gamma_upper = 1\n",
    "gamma_lower = 0\n",
    "lr_upper = 1 # learning rate\n",
    "lr_lower = 0\n",
    "alpha_upper = 1\n",
    "alpha_lower = 0\n",
    "\n",
    "# hyperparameter configurations (DoE method) -> list of values we want to test\n",
    "theta_svc_list = halton(n_samples=20, n_dimensions=2, bounds=[(C_lower, C_upper), (gamma_lower, gamma_upper)]) # return np.array\n",
    "theta_mlp_list = halton(n_samples=20, n_dimensions=2, bounds=[(lr_lower, lr_upper), (alpha_lower, alpha_upper)])\n",
    "\n",
    "# define variablen\n",
    "risk_svc_outer, risk_mlp_outer = [], []\n",
    "\n",
    "# cross validation, Ergebnis: test und 'rest' set\n",
    "n_folds = 5\n",
    "sample_indices = np.arange(len(y), dtype=int)\n",
    "train_outer, test_outer = cross_validation(sample_indices=sample_indices, n_folds=n_folds, random_state=0, y=y) # return test and rest set (contains train and validation) indices\n",
    "\n",
    "# äußere k-fold loop\n",
    "for tr_outer, te_outer in zip(train_outer, test_outer): # zip: return tuples mit Elementen aus beiden Listen an jeweils gleichem Index\n",
    "    # cross validation auf tr_outer\n",
    "    train_inner, validation_inner = cross_validation(sample_indices=tr_outer, n_folds=n_folds, random_state=0, y=y[tr_outer]) # return validation and training\n",
    "\n",
    "    # initial best hyperparameter and risk estimates\n",
    "    theta_star_svc, theta_star_mlp = None, None\n",
    "    minimum_risk_svc, minimum_risk_mlp = 1, 1\n",
    "\n",
    "    # hyperparameter loop\n",
    "    for theta_svc, theta_mlp in zip(theta_svc_list, theta_mlp_list):\n",
    "        risks_svc_inner, risks_mlp_inner = [], []\n",
    "\n",
    "        # innere k-fold loop, Ergebnis: validation und train set\n",
    "        for tr_inner, val_inner in zip(train_inner, validation_inner):\n",
    "\n",
    "            # data preprocessing\n",
    "            sc_inner = StandardScaler() # erst hier skalieren, damit Testdaten nicht mit einbezogen werden\n",
    "            sc_inner.fit(X[tr_inner])   # nur auf den Training Daten skalieren!\n",
    "            X_tr_inner = sc_inner.transform(X[tr_inner])\n",
    "            X_val_inner = sc_inner.transform(X[val_inner])  # training fitted scaler auf validation anwenden\n",
    "\n",
    "            # initialize classifier\n",
    "            svc_inner = SVC(C=theta_svc[0], gamma=theta_svc[1], random_state=0)\n",
    "            mlp_inner = MLPClassifier(learning_rate_init=theta_mlp[0], alpha=theta_mlp[1], random_state=0)\n",
    "\n",
    "            # fit classifier auf train data\n",
    "            svc_inner.fit(X_tr_inner, y[tr_inner])\n",
    "            mlp_inner.fit(X_tr_inner, y[tr_inner])\n",
    "\n",
    "            # evaluate classifier (on validation set)\n",
    "            y_pred_svc = svc_inner.predict(X_val_inner)\n",
    "            risks_svc_inner.append(zero_one_loss(y_true=y[val_inner], y_pred=y_pred_svc))\n",
    "\n",
    "            y_pred_mlp = mlp_inner.predict(X_val_inner)\n",
    "            risks_mlp_inner.append(zero_one_loss(y_true=y[val_inner], y_pred=y_pred_mlp))\n",
    "\n",
    "        # hyperparameter configs updaten für ein Test und Rest Set\n",
    "        if np.mean(risks_svc_inner) < minimum_risk_svc:\n",
    "            theta_star_svc = theta_svc\n",
    "            minimum_risk_svc = np.mean(risks_svc_inner)\n",
    "\n",
    "        if np.mean(risks_mlp_inner) < minimum_risk_mlp:\n",
    "            theta_star_mlp = theta_mlp\n",
    "            minimum_risk_mlp = np.mean(risks_mlp_inner)\n",
    "\n",
    "    # data preprocessing auf allen Daten\n",
    "    # validation braucht man nicht mehr: trainiere auf gesamten Rest Set mit optimalen Hyperparametern\n",
    "    sc_outer = StandardScaler()\n",
    "    sc_outer.fit(X[tr_outer])\n",
    "    X_tr_outer = sc_outer.transform(X[tr_outer])\n",
    "    X_te_outer = sc_outer.transform(X[te_outer])\n",
    "\n",
    "    # fit classifier (auf train und validation set)\n",
    "    svc_outer = SVC(C=theta_star_svc[0], gamma=theta_star_svc[1], random_state=0)\n",
    "    svc_outer.fit(X_tr_outer, y[tr_outer])\n",
    "\n",
    "    mlp_outer = MLPClassifier(learning_rate_init=theta_star_mlp[0], alpha=theta_star_mlp[1], random_state=0)\n",
    "    mlp_outer.fit(X_tr_outer, y[tr_outer])\n",
    "\n",
    "    # evaluate classifier (on test set)\n",
    "    # evaluation is on different test sets and different hyperparameter configurations\n",
    "    y_pred_svc = svc_outer.predict(X_te_outer)\n",
    "    risk_svc_outer.append(zero_one_loss(y_true=y[te_outer], y_pred=y_pred_svc))\n",
    "\n",
    "    y_pred_mlp = mlp_outer.predict(X_te_outer)\n",
    "    risk_mlp_outer.append(zero_one_loss(y_true=y[te_outer], y_pred=y_pred_mlp))\n",
    "\n",
    "# best performance/hyperparameter configuration\n",
    "# hohe mean und kleine std -> gut (auf allen Testsets ganz gut)\n",
    "# hohes confidence interval\n",
    "print('SVC performance: {} +- {}'.format(np.mean(risk_svc_outer), np.std(risk_svc_outer)))\n",
    "print('MLP performance: {} +- {}'.format(np.mean(risk_mlp_outer), np.std(risk_mlp_outer)))"
   ],
   "metadata": {
    "collapsed": false,
    "pycharm": {
     "name": "#%%\n",
     "is_executing": true
    }
   }
  },
  {
   "cell_type": "code",
   "execution_count": null,
   "outputs": [],
   "source": [],
   "metadata": {
    "collapsed": false,
    "pycharm": {
     "name": "#%%\n"
    }
   }
  }
 ],
 "metadata": {
  "kernelspec": {
   "display_name": "Python 3 (ipykernel)",
   "language": "python",
   "name": "python3"
  },
  "language_info": {
   "codemirror_mode": {
    "name": "ipython",
    "version": 3
   },
   "file_extension": ".py",
   "mimetype": "text/x-python",
   "name": "python",
   "nbconvert_exporter": "python",
   "pygments_lexer": "ipython3",
   "version": "3.9.6"
  }
 },
 "nbformat": 4,
 "nbformat_minor": 5
}