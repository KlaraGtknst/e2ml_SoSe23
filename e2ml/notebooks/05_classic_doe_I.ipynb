{
 "cells": [
  {
   "cell_type": "markdown",
   "metadata": {
    "pycharm": {
     "name": "#%% md\n"
    }
   },
   "source": [
    "# Classic Design of Experiments I"
   ]
  },
  {
   "cell_type": "markdown",
   "metadata": {
    "pycharm": {
     "name": "#%% md\n"
    }
   },
   "source": [
    "In this notebook, we will learn about the basics of the classic design of experiments.\n",
    "\n",
    "We start with an empirical analysis of **Hotelling's experiment** and end with a comparison of the **OFAT** and an **own DoE method**.\n",
    "\n",
    "### **Table of Contents**\n",
    "1. [Hottelling's Experiment](#hotelling-experiment)\n",
    "2. [One-factor-at-a-time Method](#one-factor-at-time-method)\n",
    "3. [Own Idea of a DoE Method](#own-idea-of-a-doe-method)"
   ]
  },
  {
   "cell_type": "code",
   "execution_count": 1,
   "metadata": {
    "ExecuteTime": {
     "end_time": "2023-05-18T20:00:59.331249811Z",
     "start_time": "2023-05-18T20:00:59.280503408Z"
    },
    "pycharm": {
     "name": "#%%\n"
    }
   },
   "outputs": [],
   "source": [
    "import scipy.linalg\n",
    "%load_ext autoreload\n",
    "%autoreload 2\n",
    "\n",
    "import numpy as np\n",
    "import matplotlib.pyplot as plt\n",
    "\n",
    "# Hotelling measurement: Waage mit zwei Waagschalen und 8 (bzw. 16) Obejketen unbekannten Gewichts\n",
    "# Ziel: Gewicht erfahren\n",
    "\n",
    "from e2ml.experimentation import (\n",
    "    get_hotellings_experiment_measurements,\n",
    "    get_hotellings_experiment_errors,\n",
    "    black_box_data_generation,\n",
    ")"
   ]
  },
  {
   "cell_type": "markdown",
   "metadata": {
    "pycharm": {
     "name": "#%% md\n"
    }
   },
   "source": [
    "### **1. Hotelling's Experiment** <a class=\"anchor\" id=\"hotelling-experiment\"></a>\n",
    "This section empirically studies Hotelling's experiment extended to 16 objects. In the first step, we create the corresponding design/factor matrices for the OFAT and combinatorial method."
   ]
  },
  {
   "cell_type": "code",
   "execution_count": 2,
   "metadata": {
    "ExecuteTime": {
     "end_time": "2023-05-18T20:01:10.162982308Z",
     "start_time": "2023-05-18T20:01:10.109583847Z"
    },
    "pycharm": {
     "name": "#%%\n"
    }
   },
   "outputs": [
    {
     "data": {
      "text/plain": "array([[ 1,  1,  1,  1,  1,  1,  1,  1,  1,  1,  1,  1,  1,  1,  1,  1],\n       [ 1, -1,  1, -1,  1, -1,  1, -1,  1, -1,  1, -1,  1, -1,  1, -1],\n       [ 1,  1, -1, -1,  1,  1, -1, -1,  1,  1, -1, -1,  1,  1, -1, -1],\n       [ 1, -1, -1,  1,  1, -1, -1,  1,  1, -1, -1,  1,  1, -1, -1,  1],\n       [ 1,  1,  1,  1, -1, -1, -1, -1,  1,  1,  1,  1, -1, -1, -1, -1],\n       [ 1, -1,  1, -1, -1,  1, -1,  1,  1, -1,  1, -1, -1,  1, -1,  1],\n       [ 1,  1, -1, -1, -1, -1,  1,  1,  1,  1, -1, -1, -1, -1,  1,  1],\n       [ 1, -1, -1,  1, -1,  1,  1, -1,  1, -1, -1,  1, -1,  1,  1, -1],\n       [ 1,  1,  1,  1,  1,  1,  1,  1, -1, -1, -1, -1, -1, -1, -1, -1],\n       [ 1, -1,  1, -1,  1, -1,  1, -1, -1,  1, -1,  1, -1,  1, -1,  1],\n       [ 1,  1, -1, -1,  1,  1, -1, -1, -1, -1,  1,  1, -1, -1,  1,  1],\n       [ 1, -1, -1,  1,  1, -1, -1,  1, -1,  1,  1, -1, -1,  1,  1, -1],\n       [ 1,  1,  1,  1, -1, -1, -1, -1, -1, -1, -1, -1,  1,  1,  1,  1],\n       [ 1, -1,  1, -1, -1,  1, -1,  1, -1,  1, -1,  1,  1, -1,  1, -1],\n       [ 1,  1, -1, -1, -1, -1,  1,  1, -1, -1,  1,  1,  1,  1, -1, -1],\n       [ 1, -1, -1,  1, -1,  1,  1, -1, -1,  1,  1, -1,  1, -1, -1,  1]])"
     },
     "metadata": {},
     "output_type": "display_data"
    },
    {
     "data": {
      "text/plain": "array([[1., 0., 0., 0., 0., 0., 0., 0., 0., 0., 0., 0., 0., 0., 0., 0.],\n       [0., 1., 0., 0., 0., 0., 0., 0., 0., 0., 0., 0., 0., 0., 0., 0.],\n       [0., 0., 1., 0., 0., 0., 0., 0., 0., 0., 0., 0., 0., 0., 0., 0.],\n       [0., 0., 0., 1., 0., 0., 0., 0., 0., 0., 0., 0., 0., 0., 0., 0.],\n       [0., 0., 0., 0., 1., 0., 0., 0., 0., 0., 0., 0., 0., 0., 0., 0.],\n       [0., 0., 0., 0., 0., 1., 0., 0., 0., 0., 0., 0., 0., 0., 0., 0.],\n       [0., 0., 0., 0., 0., 0., 1., 0., 0., 0., 0., 0., 0., 0., 0., 0.],\n       [0., 0., 0., 0., 0., 0., 0., 1., 0., 0., 0., 0., 0., 0., 0., 0.],\n       [0., 0., 0., 0., 0., 0., 0., 0., 1., 0., 0., 0., 0., 0., 0., 0.],\n       [0., 0., 0., 0., 0., 0., 0., 0., 0., 1., 0., 0., 0., 0., 0., 0.],\n       [0., 0., 0., 0., 0., 0., 0., 0., 0., 0., 1., 0., 0., 0., 0., 0.],\n       [0., 0., 0., 0., 0., 0., 0., 0., 0., 0., 0., 1., 0., 0., 0., 0.],\n       [0., 0., 0., 0., 0., 0., 0., 0., 0., 0., 0., 0., 1., 0., 0., 0.],\n       [0., 0., 0., 0., 0., 0., 0., 0., 0., 0., 0., 0., 0., 1., 0., 0.],\n       [0., 0., 0., 0., 0., 0., 0., 0., 0., 0., 0., 0., 0., 0., 1., 0.],\n       [0., 0., 0., 0., 0., 0., 0., 0., 0., 0., 0., 0., 0., 0., 0., 1.]])"
     },
     "metadata": {},
     "output_type": "display_data"
    }
   ],
   "source": [
    "from scipy.linalg import hadamard\n",
    "\n",
    "# Create Hadamard `X_hadamard` and identity matrix `X_identity`.\n",
    "# 1 rechts, -1 links (oder andersherum), mehrere Objekte gleichzeitig auf Waagschalen\n",
    "X_hadamard = hadamard(16)\n",
    "# immer nurein Objekt auf Waagschale\n",
    "X_identity = np.eye(16) #np.identity(16)\n",
    "\n",
    "display(X_hadamard)\n",
    "display(X_identity)"
   ]
  },
  {
   "cell_type": "markdown",
   "metadata": {
    "pycharm": {
     "name": "#%% md\n"
    }
   },
   "source": [
    "Next, we implement a function to estimate the object weights from the experimental results obtained after executing the experimental trials according to a given design matrix."
   ]
  },
  {
   "cell_type": "code",
   "execution_count": 3,
   "metadata": {
    "ExecuteTime": {
     "end_time": "2023-05-18T20:01:11.041348594Z",
     "start_time": "2023-05-18T20:01:11.001308694Z"
    },
    "pycharm": {
     "name": "#%%\n"
    }
   },
   "outputs": [],
   "source": [
    "def estimate_object_weights(X, y):\n",
    "    \"\"\"\n",
    "    Gets a design matrix of object configurations and corresponding measurements as inputs\n",
    "    to estimate the object weights.\n",
    "\n",
    "    Parameters\n",
    "    ----------\n",
    "    X : numpy.ndarray of shape (16, 16)\n",
    "        Design matrix of object configurations.\n",
    "    y : numpy.ndarray of shape (16,)\n",
    "        Measurements.\n",
    "\n",
    "    Returns\n",
    "    -------\n",
    "    theta_hat : numpy.ndarray of shape (16,)\n",
    "        Estimate object weights.\n",
    "    \"\"\"\n",
    "    theta_hat = np.matmul(np.linalg.inv(X), y)\n",
    "    return theta_hat\n"
   ]
  },
  {
   "cell_type": "markdown",
   "metadata": {
    "pycharm": {
     "name": "#%% md\n"
    }
   },
   "source": [
    "As the final step, we replicate the experiments for the OFAT and combinatorial method to estimate the expected sum of squared differences between true object and estimated object weights according to:\n",
    "\n",
    "_Answer:_ <br/>\n",
    "    $E\\left[|| \\hat{\\theta} - \\theta ||^2\\right] \\approx \\sigma^2 \\left( \\mathbf{X}^T \\mathbf{X} \\right)^{-1}$\n"
   ]
  },
  {
   "cell_type": "code",
   "execution_count": 4,
   "metadata": {
    "ExecuteTime": {
     "end_time": "2023-05-18T20:01:31.448350066Z",
     "start_time": "2023-05-18T20:01:27.814084317Z"
    },
    "pycharm": {
     "name": "#%%\n"
    }
   },
   "outputs": [],
   "source": [
    "# Replicate the experiment 10,000 times for both design matrices\n",
    "# to visualize the error distribution of the estimated weights via a histogram\n",
    "# and compute the empirical mean of the sum of squared differences.\n",
    "n_reps = 10000\n",
    "errors_hadamard = np.zeros(n_reps)\n",
    "errors_identity = np.zeros(n_reps)\n",
    "thetas_hadamard = []\n",
    "thetas_identity = []\n",
    "\n",
    "for i in range(n_reps):\n",
    "    # measurements obtained by balance\n",
    "    # number of entries == number of objects\n",
    "    y_hadamard = get_hotellings_experiment_measurements(X_hadamard) # warum negative Einträge?\n",
    "    y_identity = get_hotellings_experiment_measurements(X_identity)\n",
    "\n",
    "    # input parameter: X_ == how objects are placed on balance, Y_ == how much is measured on balance\n",
    "    theta_hat_hadamard = estimate_object_weights(X_hadamard, y_hadamard)\n",
    "    theta_hat_identity = estimate_object_weights(X_identity, y_identity)\n",
    "\n",
    "    # entry == sum of squared errors\n",
    "    errors_hadamard[i] = get_hotellings_experiment_errors(theta_hat_hadamard)\n",
    "    errors_identity[i] = get_hotellings_experiment_errors(theta_hat_identity)\n",
    "\n",
    "    thetas_hadamard.append(theta_hat_hadamard)\n",
    "    thetas_identity.append(theta_hat_identity)\n",
    "\n",
    "# Compute the empirical mean of the sum of squared differences.\n",
    "mean_error_hadamard = np.mean(errors_hadamard)\n",
    "mean_error_identity = np.mean(errors_identity)"
   ]
  },
  {
   "cell_type": "code",
   "execution_count": 5,
   "outputs": [
    {
     "data": {
      "text/plain": "<Figure size 1000x500 with 1 Axes>",
      "image/png": "[encoded data removed]"
     },
     "metadata": {},
     "output_type": "display_data"
    }
   ],
   "source": [
    "plt.figure(figsize=(10,5))\n",
    "plt.title(\"Hadamard: {}, Identity: {}\".format(errors_hadamard.mean().round(2), errors_identity.mean().round(2)))\n",
    "plt.hist(errors_hadamard, bins=100, label=\"Hadamard\", alpha=0.5)\n",
    "plt.hist(errors_identity, bins=100, label=\"Identity\", alpha=0.5)\n",
    "plt.axvline(mean_error_hadamard, alpha=0.25, color=\"red\", linestyle=\"--\", label=\"Hadamard mean\")\n",
    "plt.axvline(mean_error_identity, alpha=0.25, color=\"green\", linestyle=\"--\", label=\"Identity mean\")\n",
    "plt.legend()\n",
    "plt.show()"
   ],
   "metadata": {
    "collapsed": false,
    "pycharm": {
     "name": "#%%\n"
    }
   }
  },
  {
   "cell_type": "markdown",
   "metadata": {
    "pycharm": {
     "name": "#%% md\n"
    }
   },
   "source": [
    "#### **Question:**\n",
    "1. (a) What are the expected sums of squared differences between estimated and true object weights for the OFAT and combinatorial method in the case of 16 objects?\n",
    "\n",
    "   (The combinatorial method has larger errors (sum of squared differences) than the OFAT method.)\n",
    "    _Answer:_ <br/>\n",
    "      $\\sigma^2 \\left( \\mathbf{X}^T \\mathbf{X} \\right)^{-1} = \\sigma^2 \\left( \\begin{bmatrix} 1 & 1 & 1 & 1 \\\\ 1 & 1 & -1 & -1 \\\\ 1 & -1 & 1 & -1 \\\\ 1 & -1 & -1 & 1 \\end{bmatrix}^T \\begin{bmatrix} 1 & 1 & 1 & 1 \\\\ 1 & 1 & -1 & -1 \\\\ 1 & -1 & 1 & -1 \\\\ 1 & -1 & -1 & 1 \\end{bmatrix} \\right)^{-1} = \\sigma^2 \\left( \\begin{bmatrix} 4 & 0 & 0 & 0 \\\\ 0 & 4 & 0 & 0 \\\\ 0 & 0 & 4 & 0 \\\\ 0 & 0 & 0 & 4 \\end{bmatrix} \\right)^{-1} = \\frac{\\sigma^2}{4} \\begin{bmatrix} 1 & 0 & 0 & 0 \\\\ 0 & 1 & 0 & 0 \\\\ 0 & 0 & 1 & 0 \\\\ 0 & 0 & 0 & 1 \\end{bmatrix}$\n",
    "   \n",
    "### **2. One-factor-at-a-time Method** <a class=\"anchor\" id=\"one-factor-at-time-method\"></a>\n",
    "Now, we implement the standard OFAT method for multiple factors and levels. Therefore, we consider the factors $x_1, \\dots, x_D$, where each factor has a finite number of levels, i.e., $x_d \\in \\{0, \\dots, L_d-1\\}, L_d \\in \\mathbb{N}_{>0}, d \\in \\{1, \\dots, D\\}$, where $x_1 = \\dots = x_D = 0$ is defined as standard condition without loss of generality.\n",
    "\n",
    "2. (a) How many conditions, i.e., the number of rows in the design matrix, will be generated by a standard OFAT method at maximum?\n",
    "\n",
    "      _Answer:_ <br/>\n",
    "      $\\sum_{d=1}^D L_d - D$\n",
    "   \n",
    "We need to implement the corresponding function [`one_factor_at_a_time`](../e2ml/experimentation/_one_factor_at_a_time.py) in the [`e2ml.experimentation`](../e2ml/experimentation) subpackage.\n",
    "Once, the implementation has been completed, we check our implementation's validity. "
   ]
  },
  {
   "cell_type": "code",
   "execution_count": 9,
   "metadata": {
    "ExecuteTime": {
     "end_time": "2023-05-18T13:59:40.725345268Z",
     "start_time": "2023-05-18T13:59:40.681267969Z"
    },
    "pycharm": {
     "name": "#%%\n"
    }
   },
   "outputs": [
    {
     "name": "stdout",
     "output_type": "stream",
     "text": [
      "[[0 0 0]\n",
      " [1 0 0]\n",
      " [0 1 0]\n",
      " [0 2 0]\n",
      " [0 0 1]\n",
      " [0 0 2]\n",
      " [0 0 3]]\n"
     ]
    },
    {
     "data": {
      "text/plain": "<Figure size 1120x480 with 1 Axes>",
      "image/png": "[encoded data removed]"
     },
     "metadata": {},
     "output_type": "display_data"
    }
   ],
   "source": [
    "from e2ml.experimentation import one_factor_at_a_time\n",
    "\n",
    "# factor x_0 has two levels, factor x_1 has 3 levels, factor x_2 has 4 levels\n",
    "levels = [2, 3, 4]\n",
    "\n",
    "# Obtain the design matrix `X` for the given levels.\n",
    "X = one_factor_at_a_time(levels)\n",
    "\n",
    "assert X.shape[0] == 7, \"The number of conditions is wrong.\"\n",
    "assert X.shape[1] == 3, \"The number of factors is wrong.\"\n",
    "assert ~(((X > 0).sum(axis=-1) > 1).any()), \"There is one row with more than one change factor.\"\n",
    "for l_idx, l in enumerate(levels):\n",
    "    assert np.array_equal(np.unique(X[:, l_idx]), np.arange(l)), f\"No all levels were tested of factor {l_idx}.\"\n",
    "\n",
    "# Print the design matrix.\n",
    "print(X)\n",
    "plt.matshow(X.T)\n",
    "plt.xlabel(\"Condition\")\n",
    "plt.ylabel(\"Factor\")\n",
    "plt.title(\"Design matrix\")\n",
    "plt.show()"
   ]
  },
  {
   "cell_type": "markdown",
   "metadata": {
    "pycharm": {
     "name": "#%% md\n"
    }
   },
   "source": [
    "Once we have implemented and tested our OFAT function, we apply it to a black-box experiment via the function `black_box_data_generation`. In total, there are\n",
    "$D=4$ factors with $L_1 = 20, L_2 = 4, L_3 = 20, L_4 = 5$. For these factors, we generate a design matrix $\\mathbf{X}$ according to a full OFAT method and obtain the corresponding measurements. The goal is to find a condition maximizing the response of the experiment."
   ]
  },
  {
   "cell_type": "code",
   "execution_count": 10,
   "metadata": {
    "ExecuteTime": {
     "end_time": "2023-05-18T13:17:21.067616957Z",
     "start_time": "2023-05-18T13:17:21.025042811Z"
    },
    "pycharm": {
     "name": "#%%\n"
    }
   },
   "outputs": [
    {
     "data": {
      "text/plain": "<Figure size 1600x400 with 0 Axes>"
     },
     "metadata": {},
     "output_type": "display_data"
    },
    {
     "data": {
      "text/plain": "<Figure size 1600x200 with 1 Axes>",
      "image/png": "[encoded data removed]"
     },
     "metadata": {},
     "output_type": "display_data"
    },
    {
     "data": {
      "text/plain": "<Figure size 800x500 with 1 Axes>",
      "image/png": "[encoded data removed]"
     },
     "metadata": {},
     "output_type": "display_data"
    },
    {
     "name": "stdout",
     "output_type": "stream",
     "text": [
      "[5 0 0 0] is the condition with the best score (0.8)\n"
     ]
    }
   ],
   "source": [
    "# Generate levels according to the black-box experiment.\n",
    "levels = [20, 4, 20, 5]\n",
    "\n",
    "# Obtain the design matrix `X` for the given levels.\n",
    "X = one_factor_at_a_time(levels)\n",
    "fig = plt.figure(figsize=(16, 4))\n",
    "plt.matshow(X.T)\n",
    "plt.xlabel(\"Condition\")\n",
    "plt.ylabel(\"Factor\")\n",
    "plt.title(\"Design matrix\")\n",
    "plt.show()\n",
    "\n",
    "# Perform experimental trials for the given matrix `X` and save the results `res`.\n",
    "res = black_box_data_generation(X)\n",
    "\n",
    "# Plot the obtained results as a histogram.\n",
    "plt.figure(figsize=(8,5))\n",
    "plt.xlabel(\"Score\")\n",
    "plt.ylabel(\"Frequency\")\n",
    "plt.title(\"OFAT blackbox results\")\n",
    "plt.hist(res)\n",
    "plt.legend([f\"Condition {j}\" for j in range(X.shape[0])])\n",
    "fig.tight_layout()\n",
    "plt.show()\n",
    "\n",
    "# Print the best condition and its maximum score.\n",
    "idx_max_measurements = res.argmax()\n",
    "print(\"{} is the condition with the best score ({})\".format(X[idx_max_measurements], res[idx_max_measurements]))"
   ]
  },
  {
   "cell_type": "markdown",
   "metadata": {
    "pycharm": {
     "name": "#%% md\n"
    }
   },
   "source": [
    "### **3. Own Idea of a DoE Method** <a class=\"anchor\" id=\"own-idea-of-a-doe-method\"></a>\n",
    "A substantial disadvantage of the OFAT method is that it ignores any interactions between varying levels of factors. Therefore, we aim to implement an own DoE method `own_doe_method`, which advances the OFAT method. The DOE method should allow restricting the number of conditions to a user-defined value. Implement and compare your method with the results of OFAT, when using the same number of experimental trials."
   ]
  },
  {
   "cell_type": "code",
   "execution_count": 12,
   "outputs": [],
   "source": [
    "# Philips method\n",
    "def own_doe_method(levels, step_size=1):\n",
    "    \"\"\"\n",
    "    Implements a custom design of experiments method for given factor-wise levels.\n",
    "\n",
    "    Parameters\n",
    "    ----------\n",
    "    levels : array-like of shape (n_factors,)\n",
    "        Integer array indicating the number of levels of each input design factor (variable).\n",
    "    step_size : int, optional\n",
    "        Step size for the design matrix. Default is 1.\n",
    "\n",
    "    Returns\n",
    "    -------\n",
    "    X : np.ndarray of shape (n_combs, n_factors)\n",
    "        Design matrix with coded levels 0 to k-1 for a k-level factor, each one at a time.\n",
    "    \"\"\"\n",
    "    levels = np.asarray(levels)\n",
    "\n",
    "    # Create a matrix with all possible combinations of levels for each factor\n",
    "    # skipping every step_size'th level to reduce the number of combinations\n",
    "    # and transform it into a matrix with one combination per row\n",
    "    # (e.g. for levels = [3, 5] and step_size = 2, the matrix would be:\n",
    "    # [[0, 0], [0, 2], [0, 4], [2, 0], [2, 2], [2, 4]])\n",
    "    X = np.array(np.meshgrid(*[np.arange(0, level, step_size) for level in levels])).T.reshape(-1, len(levels))\n",
    "\n",
    "    return X.astype(int)"
   ],
   "metadata": {
    "collapsed": false,
    "pycharm": {
     "name": "#%%\n"
    }
   }
  },
  {
   "cell_type": "code",
   "execution_count": null,
   "outputs": [],
   "source": [
    "# Implement `own_doe_method` taking `levels` as input.\n",
    "import itertools\n",
    "'''\n",
    "def own_doe_method(levels, num_conditions=0):\n",
    "\n",
    "    #X = np.zeros(levels.sum())\n",
    "    X = one_factor_at_a_time(levels)\n",
    "    if num_conditions > 0:\n",
    "\n",
    "        print(X.shape)\n",
    "        summed_levels = X.shape[0]\n",
    "        X = np.append(X, np.zeros((sum(levels[i] * levels[j] for i in range(len(levels)-1) for j in range(i, len(levels))), len(levels))))\n",
    "\n",
    "        #for l, level in enumerate(levels):\n",
    "          #  for j, lev in enumerate(range(1, level)):\n",
    "           #     X[summed_levels+j, l] = lev\n",
    "\n",
    "            #summed_levels += level-1\n",
    "        #X = np.append(X, zip(range(0,levels[i]), range(0,levels[j])) for i,j in itertools.combinations(range(0,len(levels)), 2))\n",
    "\n",
    "    return X\n",
    "\n",
    "# Obtain the design matrix `X` for the given levels.\n",
    "levels = [2, 3, 4]\n",
    "display(one_factor_at_a_time(levels))\n",
    "X = own_doe_method(levels, 1)\n",
    "display(X)'''\n",
    "\n",
    "# Philips method\n",
    "# Implement `own_doe_method` taking `levels` as input.\n",
    "#from e2ml.experimentation import own_doe_method\n",
    "from multiprocessing import Pool\n",
    "from matplotlib import gridspec\n",
    "\n",
    "# Obtain the design matrix `X` for the given levels.\n",
    "X_1 = own_doe_method(levels, 1)\n",
    "X_2 = own_doe_method(levels, 2)\n",
    "X_4 = own_doe_method(levels, 4)\n",
    "X_8 = own_doe_method(levels, 8)\n",
    "Xs = [X_1, X_2, X_4, X_8]\n",
    "\n",
    "\n",
    "# Perform experimental trials for the given matrix `X` and save the results `res`.\n",
    "with Pool(8) as pool:\n",
    "    res = pool.map(black_box_data_generation, Xs)\n",
    "\n",
    "# res = []\n",
    "# for i in range(len(Xs)):\n",
    "#    res.append(black_box_data_generation(Xs[i]))\n",
    "#    print(f\"Finished {i + 1} out of {len(Xs)}\")\n",
    "\n",
    "\n",
    "# Plot the obtained results as a histogram.\n",
    "fig = plt.figure(figsize=(32, 32))\n",
    "gs = gridspec.GridSpec(len(Xs), 3)\n",
    "plts = []\n",
    "\n",
    "for i in range(len(Xs)):\n",
    "    plt1 = plt.subplot2grid((len(Xs), 3), (i, 0), colspan=2, rowspan=1)\n",
    "    plt1.matshow(Xs[i].T)\n",
    "    plt1.set_xlabel(\"Condition\")\n",
    "    plt1.set_ylabel(\"Factor\")\n",
    "    plt1.set_title(f\"Design matrix for {2 ** i} skipped conditions\")\n",
    "    plts.append(plt1)\n",
    "\n",
    "    plt2 = plt.subplot2grid((len(Xs), 3), (i, 2), colspan=1, rowspan=1)\n",
    "    plt2.hist(res[i])\n",
    "    plt2.axvline(np.mean(res[i]), color=\"red\", linestyle=\"--\")\n",
    "    plt2.set_xlabel(\"Score\")\n",
    "    plt2.set_ylabel(\"Frequency\")\n",
    "    plt2.set_title(\n",
    "        f\"Score histogram for {2 ** i} skipped conditions \\n mean score: {np.mean(res[i]):.2f}\")\n",
    "    plts.append(plt2)\n",
    "\n",
    "plt.show()\n",
    "\n",
    "\n",
    "# Print the best condition and its maximum score.\n",
    "best_conditions = []\n",
    "for i in range(len(Xs)):\n",
    "    best_condition = np.argmax(res[i])\n",
    "    best_conditions.append(best_condition)\n",
    "    print(\n",
    "        f\"The best condition for {2 ** i} skipped conditions is {best_condition} with a score of {res[i][best_condition]:.2f}.\")\n",
    "best_conditions = np.array(best_conditions)\n",
    "best_condition = np.argmax(best_conditions)\n",
    "print(\n",
    "    f\"The best condition for 1...{2 ** len(Xs)} skipped conditions is {best_condition} with a score of {res[best_condition][best_conditions[best_condition]]:.2f}.\")\n"
   ],
   "metadata": {
    "collapsed": false,
    "pycharm": {
     "name": "#%%\n",
     "is_executing": true
    }
   }
  },
  {
   "cell_type": "code",
   "execution_count": null,
   "outputs": [],
   "source": [],
   "metadata": {
    "collapsed": false,
    "pycharm": {
     "name": "#%%\n"
    }
   }
  }
 ],
 "metadata": {
  "kernelspec": {
   "display_name": "Python 3 (ipykernel)",
   "language": "python",
   "name": "python3"
  },
  "language_info": {
   "codemirror_mode": {
    "name": "ipython",
    "version": 3
   },
   "file_extension": ".py",
   "mimetype": "text/x-python",
   "name": "python",
   "nbconvert_exporter": "python",
   "pygments_lexer": "ipython3",
   "version": "3.8.10"
  }
 },
 "nbformat": 4,
 "nbformat_minor": 4
}