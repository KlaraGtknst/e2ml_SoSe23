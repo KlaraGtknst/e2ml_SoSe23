{
 "cells": [
  {
   "cell_type": "markdown",
   "id": "28e83585",
   "metadata": {
    "tags": [],
    "pycharm": {
     "name": "#%% md\n"
    }
   },
   "source": [
    "# Performance Measures  I\n",
    "\n",
    "In this notebook, we will implement **performance measures** for evaluating and comparing classifiers in machine learning. \n",
    "\n",
    "At the start, we will implement a function for computing *confusion matrices*.\n",
    "\n",
    "It serves as a basis for computing the subsequent performance measures with a multi- or single-class focus.\n",
    "\n",
    "Finally, we will compare the implemented performance measures using a simple exemplary classification task.\n",
    "\n",
    "### **Table of Contents**\n",
    "1. [Confusion Matrix](#confusion-matrix)\n",
    "2. [Performances Measures with a Multi-class Focus](#multi-class)\n",
    "3. [Performance Measures with a Single-class Focus](#single-class)\n",
    "4. [Comparison of Performance Measures](#comparison)"
   ]
  },
  {
   "cell_type": "code",
   "execution_count": 1,
   "id": "92f42ef1",
   "metadata": {
    "pycharm": {
     "name": "#%%\n"
    }
   },
   "outputs": [],
   "source": [
    "%load_ext autoreload\n",
    "%autoreload 2\n",
    "\n",
    "import numpy as np\n",
    "import matplotlib.pyplot as plt"
   ]
  },
  {
   "cell_type": "markdown",
   "id": "b6486326",
   "metadata": {
    "pycharm": {
     "name": "#%% md\n"
    }
   },
   "source": [
    "### **1. Confusion Matrix** <a class=\"anchor\" id=\"confusion-matrix\"></a>\n",
    "\n",
    "The confusion matrix $\\mathbf{C}_\\mathcal{T}(h) \\in \\mathbb{N}^{|\\mathcal{Y}| \\times |\\mathcal{Y}|}$ is a table or matrix that is commonly used to evaluate the performance of a\n",
    "classifier $h: \\mathcal{X} \\rightarrow \\mathcal{Y}$. It summarizes the predictions made by the classifier $h$ on a test set $\\mathcal{T} \\subset \\mathcal{X} \\times \\mathcal{Y}$. The (unormalized) entries of the confusion matrix are defined as:\n",
    "\n",
    "$\\textbf{C}(f) = \\{c_{ij}(f) = \\sum_{x \\in T} \\[(y = i) \\land (f(x) = j)\\]\\}$\n",
    "\n",
    "There exist other variants of a confusion matrix, where the entries of the confusion matrix are normalized row-wise, column-wise, or by the total sum of entries. We implement the function [`confusion_matrix`](../e2ml/evaluation/_performance_measures.py) in the [`e2ml.evaluation`](../e2ml/evaluation) subpackage.\n",
    "Once, the implementation has been completed, we check its validity for simple examples. "
   ]
  },
  {
   "cell_type": "code",
   "execution_count": 20,
   "id": "3abc4a9d",
   "metadata": {
    "pycharm": {
     "name": "#%%\n"
    }
   },
   "outputs": [],
   "source": [
    "from e2ml.evaluation import confusion_matrix\n",
    "\n",
    "# Check ranges of class labels.\n",
    "y_1 = [0, -1, 2]\n",
    "y_2 = [0, 1, 2]\n",
    "check = False\n",
    "try:\n",
    "    confusion_matrix(y_true=y_1, y_pred=y_2)\n",
    "except ValueError:\n",
    "    check = True\n",
    "assert check, 'There must be a ValueError because of invalid values.'\n",
    "check = False\n",
    "try:\n",
    "    confusion_matrix(y_true=y_2, y_pred=y_1)\n",
    "except ValueError:\n",
    "    check = True\n",
    "assert check, 'There must be a ValueError because of invalid values.'\n",
    "\n",
    "# Check type of class labels.\n",
    "y_1 = [\"hello\", \"new\", \"test\"]\n",
    "y_2 = [0, 1, 2]\n",
    "check = False\n",
    "try:\n",
    "    confusion_matrix(y_true=y_1, y_pred=y_2)\n",
    "except ValueError:\n",
    "    check = True\n",
    "assert check, 'There must be a TypeError because of invalid value types.'\n",
    "check = False\n",
    "try:\n",
    "    confusion_matrix(y_true=y_2, y_pred=y_1)\n",
    "except ValueError:\n",
    "    check = True\n",
    "assert check, 'There must be a TypeError because of invalid value types.'\n",
    "\n",
    "# Check unequal array lengths.\n",
    "y_1 = [0, -1, 2, 3]\n",
    "y_2 = [0, 1, 2]\n",
    "check = False\n",
    "try:\n",
    "    confusion_matrix(y_true=y_1, y_pred=y_2)\n",
    "except ValueError:\n",
    "    check = True\n",
    "assert check, 'There must be a ValueError because of unqueal array lengths.'\n",
    "check = False\n",
    "try:\n",
    "    confusion_matrix(y_true=y_2, y_pred=y_1)\n",
    "except ValueError:\n",
    "    check = True\n",
    "assert check, 'There must be a ValueError because of unqueal array lengths.'\n",
    "\n",
    "\n",
    "# Test correct computation for various simple examples.\n",
    "# TODO"
   ]
  },
  {
   "cell_type": "markdown",
   "id": "c45055cc",
   "metadata": {
    "pycharm": {
     "name": "#%% md\n"
    }
   },
   "source": [
    "### **2. Performance Measures with a Multi-class Focus** <a class=\"anchor\" id=\"multi-class\"></a>\n",
    "\n",
    "The accuracy $\\mathrm{ACC}_\\mathcal{T}(h) \\in [0, 1]$ of a classifier $h$ on a test set $\\mathcal{T}$ is one of the most know performance measures and can be computed  as the complement of the empirical risk $R_\\mathcal{T}(h)$ or using the confusion matrix $\\mathbf{C}_{\\mathcal{T}}(h)$ as follows:\n",
    "\n",
    "$\\mathrm{ACC}_\\mathcal{T}(h) = \\frac{\\sum^l_{i=1} c_{ii}(h)}{\\sum^l_{i,j=1} c_{ij}(h)}$\n",
    "\n",
    "We implement the function [`accuracy`](../e2ml/evaluation/_performance_measures.py) in the [`e2ml.evaluation`](../e2ml/evaluation) subpackage.\n",
    "Once, the implementation has been completed, we check its validity for simple examples. "
   ]
  },
  {
   "cell_type": "code",
   "execution_count": 21,
   "id": "449b0fe2",
   "metadata": {
    "pycharm": {
     "name": "#%%\n"
    }
   },
   "outputs": [],
   "source": [
    "from e2ml.evaluation import accuracy\n",
    "\n",
    "# Check unequal array lengths.\n",
    "y_1 = [0, -1, 2, 3]\n",
    "y_2 = [0, 1, 2]\n",
    "check = False\n",
    "try:\n",
    "    print(accuracy(y_true=y_1, y_pred=y_2))\n",
    "except ValueError:\n",
    "    check = True\n",
    "assert check, 'There must be a ValueError because of unqueal array lengths.'\n",
    "check = False\n",
    "try:\n",
    "    accuracy(y_true=y_2, y_pred=y_1)\n",
    "except ValueError:\n",
    "    check = True\n",
    "assert check, 'There must be a ValueError because of unqueal array lengths.'\n",
    "\n",
    "\n",
    "# Test correct computation for various simple examples.\n",
    "# TODO"
   ]
  },
  {
   "cell_type": "markdown",
   "id": "a8ceed79",
   "metadata": {
    "pycharm": {
     "name": "#%% md\n"
    }
   },
   "source": [
    "#### **Question:**\n",
    "2. (a) What are limitations of the accuracy as performance measure?\n",
    "\n",
    "   imbalanced data set\n",
    "    less information gaines from one value performance measure\n",
    "\n",
    "Cohen’s $\\kappa$ represents a more realistic estimate of classifier effectiveness, which is the proportion of labels that the classifier gets right over and above chance agreement. We can compute this performance measure according to:\n",
    "\n",
    "$\\kappa(H_k) = \\frac{P_O - P_e^C}{1 - P_e^C}$\n",
    "$ P_e^C = P_P^Y * P_P^h + P_N^Y * P_P^h = \\frac{Y_P}{m} * \\frac{h_P}{m} + \\frac{Y_N}{m} * \\frac{h_N}{m}$\n",
    "\n",
    "We implement the function [`cohen_kappa_score`](../e2ml/evaluation/_performance_measures.py) in the [`e2ml.evaluation`](../e2ml/evaluation) subpackage. Once, the implementation has been completed, we check its validity for simple examples. "
   ]
  },
  {
   "cell_type": "code",
   "execution_count": null,
   "id": "d9fd1d8c",
   "metadata": {
    "pycharm": {
     "name": "#%%\n"
    }
   },
   "outputs": [],
   "source": [
    "from e2ml.evaluation import cohen_kappa\n",
    "\n",
    "# Test correct computation for various simple examples.\n",
    "# TODO\n"
   ]
  },
  {
   "cell_type": "markdown",
   "id": "ffd40eb9",
   "metadata": {
    "pycharm": {
     "name": "#%% md\n"
    }
   },
   "source": [
    "### **3. Performance Measures with a Single-class Focus** <a class=\"anchor\" id=\"single-class\"></a>\n",
    "\n",
    "The F measure combines precision and recall in a score by computing the weighted harmonic mean of both. For any $\\alpha \\in \\mathbb{R}_{>0}$, the F measure can be given as:\n",
    "\n",
    "$F_\\alpha = \\frac{(1 + \\alpha) (Precision(h)* Recall(h))}{(\\alpha * Precision(h)) + Recall(h)}$\n",
    "\n",
    "The F1 measure or balance F measure weights the recall and precision of the classifier evenly via $\\alpha=1$. The macro F1 measure is an extension toward multi-class problems. Its idea is to compute the F1 score for each class and then taking the arithmetic mean of these scores.\n",
    "\n",
    "We implement the function [`macro_f1_measure`](../e2ml/evaluation/_performance_metrics.py) in the [`e2ml.evaluation`](../e2ml/evaluation) subpackage. Once, the implementation has been completed, we check its validity for simple examples. "
   ]
  },
  {
   "cell_type": "code",
   "execution_count": null,
   "id": "b9554ab0",
   "metadata": {
    "pycharm": {
     "name": "#%%\n"
    }
   },
   "outputs": [],
   "source": [
    "from e2ml.evaluation import macro_f1_measure\n",
    "\n",
    "# Test correct computation for various simple examples.\n",
    "# TODO"
   ]
  },
  {
   "cell_type": "markdown",
   "id": "076e6833",
   "metadata": {
    "pycharm": {
     "name": "#%% md\n"
    }
   },
   "source": [
    "### **4. Comparison of Performance Measures** <a class=\"anchor\" id=\"comparison\"></a>\n",
    "In the following, we perform an exemplary evaluation study to compare the performance measures accuracy, Cohen's kappa, and macro F1. Therefore, we fit a logistic regression model on a synthetic data set and compute the corresponding measures."
   ]
  },
  {
   "cell_type": "code",
   "execution_count": 22,
   "outputs": [
    {
     "ename": "ValueError",
     "evalue": "x and y must be the same size",
     "output_type": "error",
     "traceback": [
      "\u001B[1;31m---------------------------------------------------------------------------\u001B[0m",
      "\u001B[1;31mValueError\u001B[0m                                Traceback (most recent call last)",
      "Cell \u001B[1;32mIn[22], line 8\u001B[0m\n\u001B[0;32m      5\u001B[0m X, y \u001B[38;5;241m=\u001B[39m make_blobs(n_samples\u001B[38;5;241m=\u001B[39m[\u001B[38;5;241m20\u001B[39m, \u001B[38;5;241m50\u001B[39m, \u001B[38;5;241m400\u001B[39m], random_state\u001B[38;5;241m=\u001B[39m\u001B[38;5;241m0\u001B[39m)\n\u001B[0;32m      7\u001B[0m \u001B[38;5;66;03m# Visualize the dataset.\u001B[39;00m\n\u001B[1;32m----> 8\u001B[0m \u001B[43mplt\u001B[49m\u001B[38;5;241;43m.\u001B[39;49m\u001B[43mscatter\u001B[49m\u001B[43m(\u001B[49m\u001B[43mX\u001B[49m\u001B[43m,\u001B[49m\u001B[43my\u001B[49m\u001B[43m)\u001B[49m\n\u001B[0;32m     10\u001B[0m \u001B[38;5;66;03m# Split the dataset into 80% training data and 20% test data.\u001B[39;00m\n\u001B[0;32m     11\u001B[0m \u001B[38;5;66;03m# TODO\u001B[39;00m\n\u001B[0;32m     12\u001B[0m \n\u001B[0;32m     13\u001B[0m \u001B[38;5;66;03m# Fit a logistic regression model on the training data.\u001B[39;00m\n\u001B[0;32m     14\u001B[0m lr \u001B[38;5;241m=\u001B[39m LogisticRegression(max_iter\u001B[38;5;241m=\u001B[39m\u001B[38;5;241m2000\u001B[39m, random_state\u001B[38;5;241m=\u001B[39m\u001B[38;5;241m0\u001B[39m) \u001B[38;5;66;03m# <- SOLUTION\u001B[39;00m\n",
      "File \u001B[1;32m~\\anaconda3\\envs\\e2ml-env\\lib\\site-packages\\matplotlib\\pyplot.py:2890\u001B[0m, in \u001B[0;36mscatter\u001B[1;34m(x, y, s, c, marker, cmap, norm, vmin, vmax, alpha, linewidths, verts, edgecolors, plotnonfinite, data, **kwargs)\u001B[0m\n\u001B[0;32m   2884\u001B[0m \u001B[38;5;129m@_copy_docstring_and_deprecators\u001B[39m(Axes\u001B[38;5;241m.\u001B[39mscatter)\n\u001B[0;32m   2885\u001B[0m \u001B[38;5;28;01mdef\u001B[39;00m \u001B[38;5;21mscatter\u001B[39m(\n\u001B[0;32m   2886\u001B[0m         x, y, s\u001B[38;5;241m=\u001B[39m\u001B[38;5;28;01mNone\u001B[39;00m, c\u001B[38;5;241m=\u001B[39m\u001B[38;5;28;01mNone\u001B[39;00m, marker\u001B[38;5;241m=\u001B[39m\u001B[38;5;28;01mNone\u001B[39;00m, cmap\u001B[38;5;241m=\u001B[39m\u001B[38;5;28;01mNone\u001B[39;00m, norm\u001B[38;5;241m=\u001B[39m\u001B[38;5;28;01mNone\u001B[39;00m,\n\u001B[0;32m   2887\u001B[0m         vmin\u001B[38;5;241m=\u001B[39m\u001B[38;5;28;01mNone\u001B[39;00m, vmax\u001B[38;5;241m=\u001B[39m\u001B[38;5;28;01mNone\u001B[39;00m, alpha\u001B[38;5;241m=\u001B[39m\u001B[38;5;28;01mNone\u001B[39;00m, linewidths\u001B[38;5;241m=\u001B[39m\u001B[38;5;28;01mNone\u001B[39;00m,\n\u001B[0;32m   2888\u001B[0m         verts\u001B[38;5;241m=\u001B[39mcbook\u001B[38;5;241m.\u001B[39mdeprecation\u001B[38;5;241m.\u001B[39m_deprecated_parameter,\n\u001B[0;32m   2889\u001B[0m         edgecolors\u001B[38;5;241m=\u001B[39m\u001B[38;5;28;01mNone\u001B[39;00m, \u001B[38;5;241m*\u001B[39m, plotnonfinite\u001B[38;5;241m=\u001B[39m\u001B[38;5;28;01mFalse\u001B[39;00m, data\u001B[38;5;241m=\u001B[39m\u001B[38;5;28;01mNone\u001B[39;00m, \u001B[38;5;241m*\u001B[39m\u001B[38;5;241m*\u001B[39mkwargs):\n\u001B[1;32m-> 2890\u001B[0m     __ret \u001B[38;5;241m=\u001B[39m gca()\u001B[38;5;241m.\u001B[39mscatter(\n\u001B[0;32m   2891\u001B[0m         x, y, s\u001B[38;5;241m=\u001B[39ms, c\u001B[38;5;241m=\u001B[39mc, marker\u001B[38;5;241m=\u001B[39mmarker, cmap\u001B[38;5;241m=\u001B[39mcmap, norm\u001B[38;5;241m=\u001B[39mnorm,\n\u001B[0;32m   2892\u001B[0m         vmin\u001B[38;5;241m=\u001B[39mvmin, vmax\u001B[38;5;241m=\u001B[39mvmax, alpha\u001B[38;5;241m=\u001B[39malpha, linewidths\u001B[38;5;241m=\u001B[39mlinewidths,\n\u001B[0;32m   2893\u001B[0m         verts\u001B[38;5;241m=\u001B[39mverts, edgecolors\u001B[38;5;241m=\u001B[39medgecolors,\n\u001B[0;32m   2894\u001B[0m         plotnonfinite\u001B[38;5;241m=\u001B[39mplotnonfinite,\n\u001B[0;32m   2895\u001B[0m         \u001B[38;5;241m*\u001B[39m\u001B[38;5;241m*\u001B[39m({\u001B[38;5;124m\"\u001B[39m\u001B[38;5;124mdata\u001B[39m\u001B[38;5;124m\"\u001B[39m: data} \u001B[38;5;28;01mif\u001B[39;00m data \u001B[38;5;129;01mis\u001B[39;00m \u001B[38;5;129;01mnot\u001B[39;00m \u001B[38;5;28;01mNone\u001B[39;00m \u001B[38;5;28;01melse\u001B[39;00m {}), \u001B[38;5;241m*\u001B[39m\u001B[38;5;241m*\u001B[39mkwargs)\n\u001B[0;32m   2896\u001B[0m     sci(__ret)\n\u001B[0;32m   2897\u001B[0m     \u001B[38;5;28;01mreturn\u001B[39;00m __ret\n",
      "File \u001B[1;32m~\\anaconda3\\envs\\e2ml-env\\lib\\site-packages\\matplotlib\\__init__.py:1447\u001B[0m, in \u001B[0;36m_preprocess_data.<locals>.inner\u001B[1;34m(ax, data, *args, **kwargs)\u001B[0m\n\u001B[0;32m   1444\u001B[0m \u001B[38;5;129m@functools\u001B[39m\u001B[38;5;241m.\u001B[39mwraps(func)\n\u001B[0;32m   1445\u001B[0m \u001B[38;5;28;01mdef\u001B[39;00m \u001B[38;5;21minner\u001B[39m(ax, \u001B[38;5;241m*\u001B[39margs, data\u001B[38;5;241m=\u001B[39m\u001B[38;5;28;01mNone\u001B[39;00m, \u001B[38;5;241m*\u001B[39m\u001B[38;5;241m*\u001B[39mkwargs):\n\u001B[0;32m   1446\u001B[0m     \u001B[38;5;28;01mif\u001B[39;00m data \u001B[38;5;129;01mis\u001B[39;00m \u001B[38;5;28;01mNone\u001B[39;00m:\n\u001B[1;32m-> 1447\u001B[0m         \u001B[38;5;28;01mreturn\u001B[39;00m func(ax, \u001B[38;5;241m*\u001B[39m\u001B[38;5;28mmap\u001B[39m(sanitize_sequence, args), \u001B[38;5;241m*\u001B[39m\u001B[38;5;241m*\u001B[39mkwargs)\n\u001B[0;32m   1449\u001B[0m     bound \u001B[38;5;241m=\u001B[39m new_sig\u001B[38;5;241m.\u001B[39mbind(ax, \u001B[38;5;241m*\u001B[39margs, \u001B[38;5;241m*\u001B[39m\u001B[38;5;241m*\u001B[39mkwargs)\n\u001B[0;32m   1450\u001B[0m     auto_label \u001B[38;5;241m=\u001B[39m (bound\u001B[38;5;241m.\u001B[39marguments\u001B[38;5;241m.\u001B[39mget(label_namer)\n\u001B[0;32m   1451\u001B[0m                   \u001B[38;5;129;01mor\u001B[39;00m bound\u001B[38;5;241m.\u001B[39mkwargs\u001B[38;5;241m.\u001B[39mget(label_namer))\n",
      "File \u001B[1;32m~\\anaconda3\\envs\\e2ml-env\\lib\\site-packages\\matplotlib\\cbook\\deprecation.py:411\u001B[0m, in \u001B[0;36m_delete_parameter.<locals>.wrapper\u001B[1;34m(*inner_args, **inner_kwargs)\u001B[0m\n\u001B[0;32m    401\u001B[0m     deprecation_addendum \u001B[38;5;241m=\u001B[39m (\n\u001B[0;32m    402\u001B[0m         \u001B[38;5;124mf\u001B[39m\u001B[38;5;124m\"\u001B[39m\u001B[38;5;124mIf any parameter follows \u001B[39m\u001B[38;5;132;01m{\u001B[39;00mname\u001B[38;5;132;01m!r}\u001B[39;00m\u001B[38;5;124m, they should be passed as \u001B[39m\u001B[38;5;124m\"\u001B[39m\n\u001B[0;32m    403\u001B[0m         \u001B[38;5;124mf\u001B[39m\u001B[38;5;124m\"\u001B[39m\u001B[38;5;124mkeyword, not positionally.\u001B[39m\u001B[38;5;124m\"\u001B[39m)\n\u001B[0;32m    404\u001B[0m     warn_deprecated(\n\u001B[0;32m    405\u001B[0m         since,\n\u001B[0;32m    406\u001B[0m         name\u001B[38;5;241m=\u001B[39m\u001B[38;5;28mrepr\u001B[39m(name),\n\u001B[1;32m   (...)\u001B[0m\n\u001B[0;32m    409\u001B[0m                  \u001B[38;5;28;01melse\u001B[39;00m deprecation_addendum,\n\u001B[0;32m    410\u001B[0m         \u001B[38;5;241m*\u001B[39m\u001B[38;5;241m*\u001B[39mkwargs)\n\u001B[1;32m--> 411\u001B[0m \u001B[38;5;28;01mreturn\u001B[39;00m func(\u001B[38;5;241m*\u001B[39minner_args, \u001B[38;5;241m*\u001B[39m\u001B[38;5;241m*\u001B[39minner_kwargs)\n",
      "File \u001B[1;32m~\\anaconda3\\envs\\e2ml-env\\lib\\site-packages\\matplotlib\\axes\\_axes.py:4441\u001B[0m, in \u001B[0;36mAxes.scatter\u001B[1;34m(self, x, y, s, c, marker, cmap, norm, vmin, vmax, alpha, linewidths, verts, edgecolors, plotnonfinite, **kwargs)\u001B[0m\n\u001B[0;32m   4439\u001B[0m y \u001B[38;5;241m=\u001B[39m np\u001B[38;5;241m.\u001B[39mma\u001B[38;5;241m.\u001B[39mravel(y)\n\u001B[0;32m   4440\u001B[0m \u001B[38;5;28;01mif\u001B[39;00m x\u001B[38;5;241m.\u001B[39msize \u001B[38;5;241m!=\u001B[39m y\u001B[38;5;241m.\u001B[39msize:\n\u001B[1;32m-> 4441\u001B[0m     \u001B[38;5;28;01mraise\u001B[39;00m \u001B[38;5;167;01mValueError\u001B[39;00m(\u001B[38;5;124m\"\u001B[39m\u001B[38;5;124mx and y must be the same size\u001B[39m\u001B[38;5;124m\"\u001B[39m)\n\u001B[0;32m   4443\u001B[0m \u001B[38;5;28;01mif\u001B[39;00m s \u001B[38;5;129;01mis\u001B[39;00m \u001B[38;5;28;01mNone\u001B[39;00m:\n\u001B[0;32m   4444\u001B[0m     s \u001B[38;5;241m=\u001B[39m (\u001B[38;5;241m20\u001B[39m \u001B[38;5;28;01mif\u001B[39;00m rcParams[\u001B[38;5;124m'\u001B[39m\u001B[38;5;124m_internal.classic_mode\u001B[39m\u001B[38;5;124m'\u001B[39m] \u001B[38;5;28;01melse\u001B[39;00m\n\u001B[0;32m   4445\u001B[0m          rcParams[\u001B[38;5;124m'\u001B[39m\u001B[38;5;124mlines.markersize\u001B[39m\u001B[38;5;124m'\u001B[39m] \u001B[38;5;241m*\u001B[39m\u001B[38;5;241m*\u001B[39m \u001B[38;5;241m2.0\u001B[39m)\n",
      "\u001B[1;31mValueError\u001B[0m: x and y must be the same size"
     ]
    },
    {
     "data": {
      "text/plain": "<Figure size 640x480 with 1 Axes>",
      "image/png": "[encoded data removed]"
     },
     "metadata": {},
     "output_type": "display_data"
    }
   ],
   "source": [
    "from sklearn.datasets import make_blobs\n",
    "from sklearn.linear_model import LogisticRegression\n",
    "\n",
    "# Generate classification dataset.\n",
    "X, y = make_blobs(n_samples=[20, 50, 400], random_state=0)\n",
    "\n",
    "# Visualize the dataset.\n",
    "plt.scatter(X,y)\n",
    "\n",
    "# Split the dataset into 80% training data and 20% test data.\n",
    "# TODO\n",
    "\n",
    "# Fit a logistic regression model on the training data.\n",
    "lr = LogisticRegression(max_iter=2000, random_state=0) # <- SOLUTION\n",
    "lr.fit(X[train], y[train]) # <- SOLUTION\n",
    "\n",
    "# Evaluate and print the three performance measures on the training and test set.\n",
    "# TODO"
   ],
   "metadata": {
    "collapsed": false,
    "pycharm": {
     "name": "#%%\n"
    }
   }
  },
  {
   "cell_type": "code",
   "execution_count": null,
   "outputs": [],
   "source": [],
   "metadata": {
    "collapsed": false,
    "pycharm": {
     "name": "#%%\n"
    }
   }
  }
 ],
 "metadata": {
  "kernelspec": {
   "display_name": "Python 3 (ipykernel)",
   "language": "python",
   "name": "python3"
  },
  "language_info": {
   "codemirror_mode": {
    "name": "ipython",
    "version": 3
   },
   "file_extension": ".py",
   "mimetype": "text/x-python",
   "name": "python",
   "nbconvert_exporter": "python",
   "pygments_lexer": "ipython3",
   "version": "3.8.10"
  }
 },
 "nbformat": 4,
 "nbformat_minor": 5
}