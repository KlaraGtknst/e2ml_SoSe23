{
 "cells": [
  {
   "attachments": {},
   "cell_type": "markdown",
   "metadata": {
    "collapsed": true,
    "pycharm": {
     "name": "#%% md\n"
    }
   },
   "source": [
    "# Statistical Hypothesis Testing I\n",
    "\n",
    "In this notebook, we will implement and apply **statistical hypothesis tests** to make inferences about populations based on sample data.\n",
    "\n",
    "At the start, we clarify common misconceptions in statistical hypothesis testing.\n",
    "\n",
    "Subsequently, we will implement the one-sample $z$-test and the one-sample $t$-test.\n",
    "\n",
    "Finally, we will apply one of the tests to a concrete example.\n",
    "\n",
    "### **Table of Contents**\n",
    "1. [Clarification of Misconceptions](#misconceptions)\n",
    "2. [One-samples Tests](#one-sample-tests)\n",
    "3. [Example](#example)"
   ]
  },
  {
   "cell_type": "code",
   "execution_count": 1,
   "metadata": {
    "ExecuteTime": {
     "end_time": "2023-07-21T10:58:54.038550Z",
     "start_time": "2023-07-21T10:58:54.016060Z"
    }
   },
   "outputs": [],
   "source": [
    "%load_ext autoreload\n",
    "%autoreload 2\n",
    "\n",
    "import matplotlib.pyplot as plt\n",
    "import numpy as np\n",
    "\n",
    "from scipy import stats"
   ]
  },
  {
   "attachments": {},
   "cell_type": "markdown",
   "metadata": {},
   "source": [
    "### **1. Clarification of Misconceptions** <a class=\"anchor\" id=\"misconeptions\"></a>\n",
    "Statistical hypothesis testing can often cause confusion and thus misconceptions, which we would like to clarify below.\n",
    "\n",
    "#### **Questions:**\n",
    "1. (a) Is the $p$-value the probability that the null hypothesis $H_0$ is true given the data?\n",
    "   \n",
    "   Wahrscheinlichkeit extremere Werte (von H_0 distribution abweichende Werte) zu bekommen unter der Voraussetzung, dass H_0 war ist.\n",
    "   \n",
    "   (b) Are hypothesis tests carried out to decide if the H_0 is true or false?\n",
    "\n",
    "   Es gibt keine Sicherheit, es sind immer nur Indizien.\n",
    "   Wenn das Significance level klein ist, kann man H_0 verwerfen.\n",
    "   H_0 zu verwerfen kann sicherer gemacht werden, als zu sagen, dass sie wahr kist.\n",
    "   Gegeben \\alpha: Sprechen Indizien gegen oder für H_0.\n",
    "   Vermutung ist H_1, also das was man überprüfen will.\n",
    "   \n",
    "   (c) Are hypothesis tests carried out to establish the test statistic?\n",
    "   \n",
    "   Test Statistik beschreibt wie gut die Observations die distributions abbilden, die in der H_0 angenommen wurden.\n",
    "   Hypothesis tests haben nicht (nur) die Aufgabe test statistics zu etablieren.\n",
    "   Sie sollen Inferenzen möglich machen.\n",
    "\n",
    "\n",
    "BEGIN SOLUTION\n",
    "(a)\n",
    "   No, it is the probability of observing more extreme values than the test statistic $s$, if the null hypothesis $H_0$ is true. Instead, the question aims to find $$p(H_0 \\mid \\widetilde{\\mathcal{X}}_N).$$\n",
    "\n",
    "\n",
    "   (b) Are hypothesis tess carried out to decide if the null hypothesis is true or false?\n",
    "\n",
    "\n",
    "\n",
    "   A hypothesis testing procedure is carried out to investigate the claim made about a population parameter $\\theta$ and while it is possible to decide on the probability of the null hypothesis $H_0$ being true based on certain level of significance $\\alpha$, it is not possible to actually conclude that the null hypothesis $H_0$ is true. This is because it is statistically incorrect to make a decision to accept the null hypothesis.\n",
    "\n",
    "\n",
    "\n",
    "   (c) Are hypothesis tests carried out to establish the test statistic?\n",
    "\n",
    "\n",
    "\n",
    "   No, in hypothesis testing, it is essential to is to make an inference about a population parameter.\n",
    "\n",
    " END SOLUTION\n",
    "\n",
    "\n"
   ]
  },
  {
   "attachments": {},
   "cell_type": "markdown",
   "metadata": {},
   "source": [
    "### **2. One-sample Tests** <a class=\"anchor\" id=\"one-sample-tests\"></a>\n",
    "\n",
    "We implement the function [`z_test_one_sample`](../e2ml/evaluation/_one_sample_tests.py) in the [`e2ml.evaluation`](../e2ml/evaluation) subpackage. Once, the implementation has been completed, we check it for varying types of tests."
   ]
  },
  {
   "cell_type": "code",
   "execution_count": 2,
   "metadata": {
    "ExecuteTime": {
     "end_time": "2023-07-21T10:58:54.109066Z",
     "start_time": "2023-07-21T10:58:54.039503Z"
    }
   },
   "outputs": [],
   "source": [
    "from e2ml.evaluation import z_test_one_sample\n",
    "sigma = 0.5\n",
    "mu_0 = 2\n",
    "sample_data = np.round(stats.norm.rvs(loc=2, scale=sigma, size=10, random_state=50), 1)\n",
    "z_statistic, p = z_test_one_sample(sample_data=sample_data, mu_0=mu_0, sigma=sigma, test_type=\"right-tail\")\n",
    "assert np.round(z_statistic, 4) == -1.5811 , 'The z-test statistic must be ca. 4.590.' \n",
    "assert np.round(p, 4) == 0.9431, 'The p-value must be ca. 0.0007 for the one-sided right-tail test.' \n",
    "z_statistic, p = z_test_one_sample(sample_data=sample_data, mu_0=mu_0, sigma=sigma, test_type=\"left-tail\")\n",
    "assert np.round(z_statistic, 4) == -1.5811 , 'The z-test statistic must be ca. 4.590.' \n",
    "assert np.round(p, 4) == 0.0569, 'The p-value must be ca. 0.9993 for the one-sided left-tail test.' \n",
    "z_statistic, p = z_test_one_sample(sample_data=sample_data, mu_0=mu_0, sigma=sigma, test_type=\"two-sided\")\n",
    "assert np.round(z_statistic, 4) == -1.5811 , 'The z-test statistic must be ca. 4.590.' \n",
    "assert np.round(p, 4) == 0.1138, 'The p-value must be ca. 0.0014 for the two-sided test.' "
   ]
  },
  {
   "attachments": {},
   "cell_type": "markdown",
   "metadata": {},
   "source": [
    "We implement the function [`t_test_one_sample`](../e2ml/evaluation/_one_sample_tests.py) in the [`e2ml.evaluation`](../e2ml/evaluation) subpackage. Once, the implementation has been completed, we check it for varying types of tests."
   ]
  },
  {
   "cell_type": "code",
   "execution_count": 3,
   "metadata": {
    "ExecuteTime": {
     "end_time": "2023-07-21T10:58:54.573495Z",
     "start_time": "2023-07-21T10:58:54.110899Z"
    }
   },
   "outputs": [
    {
     "name": "stderr",
     "output_type": "stream",
     "text": [
      "[autoreload of sklearn.utils.fixes failed: Traceback (most recent call last):\n",
      "  File \"/opt/homebrew/anaconda3/envs/e2ml-env/lib/python3.10/site-packages/IPython/extensions/autoreload.py\", line 273, in check\n",
      "    superreload(m, reload, self.old_objects)\n",
      "  File \"/opt/homebrew/anaconda3/envs/e2ml-env/lib/python3.10/site-packages/IPython/extensions/autoreload.py\", line 496, in superreload\n",
      "    update_generic(old_obj, new_obj)\n",
      "  File \"/opt/homebrew/anaconda3/envs/e2ml-env/lib/python3.10/site-packages/IPython/extensions/autoreload.py\", line 393, in update_generic\n",
      "    update(a, b)\n",
      "  File \"/opt/homebrew/anaconda3/envs/e2ml-env/lib/python3.10/site-packages/IPython/extensions/autoreload.py\", line 305, in update_function\n",
      "    setattr(old, name, getattr(new, name))\n",
      "ValueError: delayed() requires a code object with 2 free vars, not 0\n",
      "]\n",
      "[autoreload of sklearn.utils._param_validation failed: Traceback (most recent call last):\n",
      "  File \"/opt/homebrew/anaconda3/envs/e2ml-env/lib/python3.10/site-packages/IPython/extensions/autoreload.py\", line 273, in check\n",
      "    superreload(m, reload, self.old_objects)\n",
      "  File \"/opt/homebrew/anaconda3/envs/e2ml-env/lib/python3.10/site-packages/IPython/extensions/autoreload.py\", line 496, in superreload\n",
      "    update_generic(old_obj, new_obj)\n",
      "  File \"/opt/homebrew/anaconda3/envs/e2ml-env/lib/python3.10/site-packages/IPython/extensions/autoreload.py\", line 393, in update_generic\n",
      "    update(a, b)\n",
      "  File \"/opt/homebrew/anaconda3/envs/e2ml-env/lib/python3.10/site-packages/IPython/extensions/autoreload.py\", line 345, in update_class\n",
      "    if update_generic(old_obj, new_obj):\n",
      "  File \"/opt/homebrew/anaconda3/envs/e2ml-env/lib/python3.10/site-packages/IPython/extensions/autoreload.py\", line 393, in update_generic\n",
      "    update(a, b)\n",
      "  File \"/opt/homebrew/anaconda3/envs/e2ml-env/lib/python3.10/site-packages/IPython/extensions/autoreload.py\", line 305, in update_function\n",
      "    setattr(old, name, getattr(new, name))\n",
      "ValueError: __init__() requires a code object with 1 free vars, not 2\n",
      "]\n"
     ]
    }
   ],
   "source": [
    "from e2ml.evaluation import t_test_one_sample\n",
    "sample_data = np.round(stats.norm.rvs(loc=13.5, scale=0.25, size=10, random_state=1), 1)\n",
    "t_statistic, p = t_test_one_sample(sample_data=sample_data, mu_0=13, test_type=\"right-tail\")\n",
    "assert np.round(t_statistic, 4) == 4.5898 , 'The t-test statistic must be ca. 4.590.' \n",
    "assert np.round(p, 4) == 0.0007, 'The p-value must be ca. 0.0007 for the one-sided right-tail test.' \n",
    "t_statistic, p = t_test_one_sample(sample_data=sample_data, mu_0=13, test_type=\"left-tail\")\n",
    "assert np.round(t_statistic, 4) == 4.5898 , 'The t-test statistic must be ca. 4.590.' \n",
    "assert np.round(p, 4) == 0.9993, 'The p-value must be ca. 0.9993 for the one-sided left-tail test.' \n",
    "t_statistic, p = t_test_one_sample(sample_data=sample_data, mu_0=13, test_type=\"two-sided\")\n",
    "assert np.round(t_statistic, 4) == 4.5898 , 'The t-test statistic must be ca. 4.590.' \n",
    "assert np.round(p, 4) == 0.0013, 'The p-value must be ca. 0.0014 for the two-sided test.' "
   ]
  },
  {
   "attachments": {},
   "cell_type": "markdown",
   "metadata": {},
   "source": [
    "### **3. Example** <a class=\"anchor\" id=\"example\"></a>"
   ]
  },
  {
   "attachments": {},
   "cell_type": "markdown",
   "metadata": {},
   "source": [
    "Let us assume we have access to the follwing *identically and independently distributed* (i.i.d.) heart rate measurements $[\\mathrm{beats/min}]$ of 40 patients in an *intensive care unit* (ICU):\n",
    "\n",
    "$124, 111,  96, 104,  89, 106,  94,  48, 117,  61, 117, 104,  72,\n",
    "86, 126, 103,  97,  49,  78,  52, 119, 107, 131, 112,  78, 132,\n",
    "80, 139,  87,  44,  40,  60,  40,  80,  41, 103, 102,  44, 115,\n",
    "103.$\n",
    "\n",
    "#### **Questions:**\n",
    "3. (a) Are heart rates from ICU patients unusual given normal heart rate has mean of 72 beats/min with a significance of .01? Perform a statistical hypothesis test by following the steps presented in the lecture and by using Python.\n",
    "\n",
    "   cf. below\n",
    "\n",
    "   p-hacking: \n",
    "      - define alpha after p value is computed. \n",
    "      - ziehe Subset of observed samples auf denen getestet: Obwohl Daten eigentlich von dist generiert wurden, sieht das bei gewissen Subsets nicht so aus. -> By chance effect der Hypothese zu schreiben.-> Wiederhole subsets ziehen\n",
    "      -> Klausurrelevant. Youtube\n",
    "\n",
    "   Man kann nicht grundsätzlich sagen, ob es besser ist auf einen gesamten oder wiederholt auf subsamples zu testen.\n",
    "   (Möglicherweise ab großen Datensätzen könnte wiederholtes subsamplen aussagekräftiger zu sein.)\n",
    "\n",
    "BEGIN SOLUTION\n",
    "\n",
    "   Step 1 (Define null and alternative hypothesis): We perform a two-sided test:\n",
    "\n",
    "   $$\n",
    "   H_0: \\mu = 72 \\text{ versus } \\mu \\neq 72.\n",
    "   $$\n",
    "\n",
    "   Step 2 (Select test statistic): Since we the study the mean of the population of ICU patients, we select the empirical mean as test statistic:\n",
    "\n",
    "   $$\n",
    "   \\mu_{40} = \\frac{1}{40} \\sum_{n=1}^{40} x_n.\n",
    "   $$\n",
    "\n",
    "   Step 3 (Select test statistic): We have no information about the population distribution. However, we have $N=40$ i.i.d. observed samples such that we argue with the rule of thumb for the central limit theorem as basis for the $t$-transformation:\n",
    "\n",
    "   $$\n",
    "   t_{40} = \\frac{\\mu_{40} - \\mu}{\\frac{\\sigma_{40}}{\\sqrt{40}}} \\sim \\mathrm{St}(39).\n",
    "   $$\n",
    "\n",
    "   Step 4 (Choose significance level): According to the question, we use $\\alpha=0.01$.\n",
    "\n",
    "   Step 5 (Evaluate test statistic) + Step 6 (Compute $p$-value): We perform both steps using Python in the next cell to obtain:\n",
    "\n",
    "   $$\n",
    "   \\widetilde{\\mathcal{t}}_{40} \\approx 3.8685,\n",
    "   p \\approx 0.0004.\n",
    "   $$\n",
    "\n",
    "   Step 7 (Decide on the null hypothesis): Since $p \\approx 0.0004 < 0.01 = \\alpha$, we reject the null hypothesis $H_0$ meaning the sample data $\\widetilde{\\mathcal{X}}_{40}$ do provide sufficient evidence that the ICU patient's mean heart rate is significantly different from $\\mu_0 = 72$ given $\\alpha = 0.01$.\n",
    "\n",
    "\n",
    "   END SOLUTION\n"
   ]
  },
  {
   "cell_type": "code",
   "execution_count": 4,
   "metadata": {
    "ExecuteTime": {
     "end_time": "2023-07-21T10:58:54.607948Z",
     "start_time": "2023-07-21T10:58:54.573930Z"
    }
   },
   "outputs": [
    {
     "name": "stdout",
     "output_type": "stream",
     "text": [
      "Reject H_0 with significance level alpha=0.01, and pvalue=0.0004\n"
     ]
    }
   ],
   "source": [
    "data = [124, 111,  96, 104,  89, 106,  94,  48, 117,  61, 117, 104,  72,\n",
    "86, 126, 103,  97,  49,  78,  52, 119, 107, 131, 112,  78, 132,\n",
    "80, 139,  87,  44,  40,  60,  40,  80,  41, 103, 102,  44, 115,\n",
    "103]\n",
    "\n",
    "# (1) define hypotheses\n",
    "# H_0: mu = 72\n",
    "# H_1: mu != 72\n",
    "mu_0 = 72   # population mean\n",
    "\n",
    "# (2) select test statistic: Mittelwert\n",
    "s_n = (1/len(data))*sum(data)\n",
    "\n",
    "# (3) find sampling distribution of test statistic under H_0\n",
    "# z statistic: std is knownc & independent & normally distributed & enough (>30) samples -> NOT usable\n",
    "# t statistic: std is unknown & independent & normally distributed & enough (>30) samples -> usable\n",
    "# t transformation anwenden ==  treffen die Annahmen student t Verteilung ist zugrundeliegende Verteilung (aufgrund der erfüllten Voraussetzungen)\n",
    "\n",
    "# (4) define significance level: always define alpha before computing p-value\n",
    "alpha = 0.01\n",
    "\n",
    "# (5) evaluate test statistic for observed data & (6) compute p-value\n",
    "t_statistic, p = t_test_one_sample(sample_data=data, mu_0=mu_0, test_type=\"two-sided\")\n",
    "\n",
    "# (7) make decision\n",
    "if p < alpha:\n",
    "    print(\"Reject H_0 with significance level alpha={}, and pvalue={}\".format(np.round(alpha,4),np.round(p,4)))\n",
    "else:\n",
    "    print(\"Do not reject H_0\")\n",
    "\n"
   ]
  },
  {
   "cell_type": "code",
   "execution_count": 4,
   "metadata": {
    "ExecuteTime": {
     "end_time": "2023-07-21T10:58:54.609408Z",
     "start_time": "2023-07-21T10:58:54.608244Z"
    }
   },
   "outputs": [],
   "source": []
  }
 ],
 "metadata": {
  "kernelspec": {
   "display_name": "Python 3 (ipykernel)",
   "language": "python",
   "name": "python3"
  },
  "language_info": {
   "codemirror_mode": {
    "name": "ipython",
    "version": 3
   },
   "file_extension": ".py",
   "mimetype": "text/x-python",
   "name": "python",
   "nbconvert_exporter": "python",
   "pygments_lexer": "ipython3",
   "version": "3.9.16"
  }
 },
 "nbformat": 4,
 "nbformat_minor": 1
}
